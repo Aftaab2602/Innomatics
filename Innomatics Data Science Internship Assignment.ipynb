{
 "cells": [
  {
   "cell_type": "code",
   "execution_count": 27,
   "id": "686b9e5f",
   "metadata": {
    "ExecuteTime": {
     "end_time": "2024-01-06T06:44:54.417799Z",
     "start_time": "2024-01-06T06:44:54.411615Z"
    }
   },
   "outputs": [],
   "source": [
    "import pandas as pd\n",
    "import matplotlib.pyplot as plt"
   ]
  },
  {
   "cell_type": "code",
   "execution_count": 2,
   "id": "3bd7f3ae",
   "metadata": {
    "ExecuteTime": {
     "end_time": "2024-01-06T06:29:55.842421Z",
     "start_time": "2024-01-06T06:29:55.055400Z"
    }
   },
   "outputs": [],
   "source": [
    "movies = pd.read_csv(\"movies.csv\")"
   ]
  },
  {
   "cell_type": "code",
   "execution_count": 3,
   "id": "96e4a29a",
   "metadata": {
    "ExecuteTime": {
     "end_time": "2024-01-06T06:30:08.656011Z",
     "start_time": "2024-01-06T06:30:08.618619Z"
    }
   },
   "outputs": [
    {
     "data": {
      "text/plain": [
       "(9742, 3)"
      ]
     },
     "execution_count": 3,
     "metadata": {},
     "output_type": "execute_result"
    }
   ],
   "source": [
    "movies.shape"
   ]
  },
  {
   "cell_type": "code",
   "execution_count": 4,
   "id": "e5a98481",
   "metadata": {
    "ExecuteTime": {
     "end_time": "2024-01-06T06:30:42.118264Z",
     "start_time": "2024-01-06T06:30:41.981943Z"
    }
   },
   "outputs": [],
   "source": [
    "ratings = pd.read_csv(\"ratings.csv\")"
   ]
  },
  {
   "cell_type": "code",
   "execution_count": 5,
   "id": "45c6b09b",
   "metadata": {
    "ExecuteTime": {
     "end_time": "2024-01-06T06:30:48.552294Z",
     "start_time": "2024-01-06T06:30:48.542526Z"
    }
   },
   "outputs": [
    {
     "data": {
      "text/plain": [
       "(100836, 4)"
      ]
     },
     "execution_count": 5,
     "metadata": {},
     "output_type": "execute_result"
    }
   ],
   "source": [
    "ratings.shape"
   ]
  },
  {
   "cell_type": "code",
   "execution_count": 6,
   "id": "1ea113b4",
   "metadata": {
    "ExecuteTime": {
     "end_time": "2024-01-06T06:31:09.662995Z",
     "start_time": "2024-01-06T06:31:08.862059Z"
    }
   },
   "outputs": [
    {
     "data": {
      "text/html": [
       "<div>\n",
       "<style scoped>\n",
       "    .dataframe tbody tr th:only-of-type {\n",
       "        vertical-align: middle;\n",
       "    }\n",
       "\n",
       "    .dataframe tbody tr th {\n",
       "        vertical-align: top;\n",
       "    }\n",
       "\n",
       "    .dataframe thead th {\n",
       "        text-align: right;\n",
       "    }\n",
       "</style>\n",
       "<table border=\"1\" class=\"dataframe\">\n",
       "  <thead>\n",
       "    <tr style=\"text-align: right;\">\n",
       "      <th></th>\n",
       "      <th>userId</th>\n",
       "      <th>movieId</th>\n",
       "      <th>rating</th>\n",
       "      <th>timestamp</th>\n",
       "    </tr>\n",
       "  </thead>\n",
       "  <tbody>\n",
       "    <tr>\n",
       "      <th>0</th>\n",
       "      <td>1</td>\n",
       "      <td>1</td>\n",
       "      <td>4.0</td>\n",
       "      <td>964982703</td>\n",
       "    </tr>\n",
       "    <tr>\n",
       "      <th>1</th>\n",
       "      <td>1</td>\n",
       "      <td>3</td>\n",
       "      <td>4.0</td>\n",
       "      <td>964981247</td>\n",
       "    </tr>\n",
       "    <tr>\n",
       "      <th>2</th>\n",
       "      <td>1</td>\n",
       "      <td>6</td>\n",
       "      <td>4.0</td>\n",
       "      <td>964982224</td>\n",
       "    </tr>\n",
       "    <tr>\n",
       "      <th>3</th>\n",
       "      <td>1</td>\n",
       "      <td>47</td>\n",
       "      <td>5.0</td>\n",
       "      <td>964983815</td>\n",
       "    </tr>\n",
       "    <tr>\n",
       "      <th>4</th>\n",
       "      <td>1</td>\n",
       "      <td>50</td>\n",
       "      <td>5.0</td>\n",
       "      <td>964982931</td>\n",
       "    </tr>\n",
       "    <tr>\n",
       "      <th>...</th>\n",
       "      <td>...</td>\n",
       "      <td>...</td>\n",
       "      <td>...</td>\n",
       "      <td>...</td>\n",
       "    </tr>\n",
       "    <tr>\n",
       "      <th>100831</th>\n",
       "      <td>610</td>\n",
       "      <td>166534</td>\n",
       "      <td>4.0</td>\n",
       "      <td>1493848402</td>\n",
       "    </tr>\n",
       "    <tr>\n",
       "      <th>100832</th>\n",
       "      <td>610</td>\n",
       "      <td>168248</td>\n",
       "      <td>5.0</td>\n",
       "      <td>1493850091</td>\n",
       "    </tr>\n",
       "    <tr>\n",
       "      <th>100833</th>\n",
       "      <td>610</td>\n",
       "      <td>168250</td>\n",
       "      <td>5.0</td>\n",
       "      <td>1494273047</td>\n",
       "    </tr>\n",
       "    <tr>\n",
       "      <th>100834</th>\n",
       "      <td>610</td>\n",
       "      <td>168252</td>\n",
       "      <td>5.0</td>\n",
       "      <td>1493846352</td>\n",
       "    </tr>\n",
       "    <tr>\n",
       "      <th>100835</th>\n",
       "      <td>610</td>\n",
       "      <td>170875</td>\n",
       "      <td>3.0</td>\n",
       "      <td>1493846415</td>\n",
       "    </tr>\n",
       "  </tbody>\n",
       "</table>\n",
       "<p>100836 rows × 4 columns</p>\n",
       "</div>"
      ],
      "text/plain": [
       "        userId  movieId  rating   timestamp\n",
       "0            1        1     4.0   964982703\n",
       "1            1        3     4.0   964981247\n",
       "2            1        6     4.0   964982224\n",
       "3            1       47     5.0   964983815\n",
       "4            1       50     5.0   964982931\n",
       "...        ...      ...     ...         ...\n",
       "100831     610   166534     4.0  1493848402\n",
       "100832     610   168248     5.0  1493850091\n",
       "100833     610   168250     5.0  1494273047\n",
       "100834     610   168252     5.0  1493846352\n",
       "100835     610   170875     3.0  1493846415\n",
       "\n",
       "[100836 rows x 4 columns]"
      ]
     },
     "execution_count": 6,
     "metadata": {},
     "output_type": "execute_result"
    }
   ],
   "source": [
    "ratings"
   ]
  },
  {
   "cell_type": "code",
   "execution_count": 9,
   "id": "dce38dda",
   "metadata": {
    "ExecuteTime": {
     "end_time": "2024-01-06T06:32:16.613849Z",
     "start_time": "2024-01-06T06:32:16.599800Z"
    }
   },
   "outputs": [
    {
     "data": {
      "text/plain": [
       "610"
      ]
     },
     "execution_count": 9,
     "metadata": {},
     "output_type": "execute_result"
    }
   ],
   "source": [
    "ratings['userId'].nunique()"
   ]
  },
  {
   "cell_type": "code",
   "execution_count": 18,
   "id": "b7ba79c0",
   "metadata": {
    "ExecuteTime": {
     "end_time": "2024-01-06T06:38:46.045072Z",
     "start_time": "2024-01-06T06:38:46.023197Z"
    }
   },
   "outputs": [
    {
     "data": {
      "text/plain": [
       "356"
      ]
     },
     "execution_count": 18,
     "metadata": {},
     "output_type": "execute_result"
    }
   ],
   "source": [
    "max_ratings_movie_id = ratings.groupby('movieId').size().idxmax()\n",
    "max_ratings_movie_id"
   ]
  },
  {
   "cell_type": "code",
   "execution_count": 19,
   "id": "2b3b9b25",
   "metadata": {
    "ExecuteTime": {
     "end_time": "2024-01-06T06:38:52.585769Z",
     "start_time": "2024-01-06T06:38:52.575092Z"
    }
   },
   "outputs": [
    {
     "data": {
      "text/plain": [
       "'Forrest Gump (1994)'"
      ]
     },
     "execution_count": 19,
     "metadata": {},
     "output_type": "execute_result"
    }
   ],
   "source": [
    "movies.loc[movies['movieId'] == max_ratings_movie_id, 'title'].values[0]"
   ]
  },
  {
   "cell_type": "code",
   "execution_count": 21,
   "id": "d9dae589",
   "metadata": {
    "ExecuteTime": {
     "end_time": "2024-01-06T06:39:50.028231Z",
     "start_time": "2024-01-06T06:39:50.000061Z"
    }
   },
   "outputs": [],
   "source": [
    "tags = pd.read_csv(\"tags.csv\")"
   ]
  },
  {
   "cell_type": "code",
   "execution_count": 22,
   "id": "cc8b4e75",
   "metadata": {
    "ExecuteTime": {
     "end_time": "2024-01-06T06:40:26.262090Z",
     "start_time": "2024-01-06T06:40:26.247989Z"
    }
   },
   "outputs": [
    {
     "data": {
      "text/plain": [
       "2571"
      ]
     },
     "execution_count": 22,
     "metadata": {},
     "output_type": "execute_result"
    }
   ],
   "source": [
    "matrix_movie_id = movies.loc[movies['title'] == 'Matrix, The (1999)', 'movieId'].values[0]\n",
    "matrix_movie_id "
   ]
  },
  {
   "cell_type": "code",
   "execution_count": 23,
   "id": "1b4c5b86",
   "metadata": {
    "ExecuteTime": {
     "end_time": "2024-01-06T06:41:02.050778Z",
     "start_time": "2024-01-06T06:41:02.038975Z"
    }
   },
   "outputs": [
    {
     "data": {
      "text/plain": [
       "['martial arts',\n",
       " 'sci-fi',\n",
       " 'alternate universe',\n",
       " 'philosophy',\n",
       " 'post apocalyptic']"
      ]
     },
     "execution_count": 23,
     "metadata": {},
     "output_type": "execute_result"
    }
   ],
   "source": [
    "matrix_tags = tags.loc[tags['movieId'] == matrix_movie_id, 'tag'].tolist()\n",
    "matrix_tags"
   ]
  },
  {
   "cell_type": "code",
   "execution_count": 24,
   "id": "4d4dad24",
   "metadata": {
    "ExecuteTime": {
     "end_time": "2024-01-06T06:42:23.843317Z",
     "start_time": "2024-01-06T06:42:23.831181Z"
    }
   },
   "outputs": [
    {
     "data": {
      "text/plain": [
       "589"
      ]
     },
     "execution_count": 24,
     "metadata": {},
     "output_type": "execute_result"
    }
   ],
   "source": [
    "terminator_movie_id = movies.loc[movies['title'] == 'Terminator 2: Judgment Day (1991)', 'movieId'].values[0]\n",
    "terminator_movie_id"
   ]
  },
  {
   "cell_type": "code",
   "execution_count": 25,
   "id": "7e765b3b",
   "metadata": {
    "ExecuteTime": {
     "end_time": "2024-01-06T06:43:12.284109Z",
     "start_time": "2024-01-06T06:43:12.266270Z"
    }
   },
   "outputs": [
    {
     "data": {
      "text/plain": [
       "552      3.0\n",
       "806      3.0\n",
       "886      2.5\n",
       "1286     4.0\n",
       "1449     5.0\n",
       "        ... \n",
       "97461    3.5\n",
       "98514    4.0\n",
       "98786    3.0\n",
       "99519    3.0\n",
       "99573    5.0\n",
       "Name: rating, Length: 224, dtype: float64"
      ]
     },
     "execution_count": 25,
     "metadata": {},
     "output_type": "execute_result"
    }
   ],
   "source": [
    "terminator_ratings = ratings.loc[ratings['movieId'] == terminator_movie_id, 'rating']\n",
    "terminator_ratings"
   ]
  },
  {
   "cell_type": "code",
   "execution_count": 26,
   "id": "9cabeb45",
   "metadata": {
    "ExecuteTime": {
     "end_time": "2024-01-06T06:43:36.028395Z",
     "start_time": "2024-01-06T06:43:36.017586Z"
    }
   },
   "outputs": [
    {
     "data": {
      "text/plain": [
       "3.970982142857143"
      ]
     },
     "execution_count": 26,
     "metadata": {},
     "output_type": "execute_result"
    }
   ],
   "source": [
    "terminator_ratings.mean()"
   ]
  },
  {
   "cell_type": "code",
   "execution_count": 28,
   "id": "24c0076d",
   "metadata": {
    "ExecuteTime": {
     "end_time": "2024-01-06T06:45:21.975305Z",
     "start_time": "2024-01-06T06:45:21.960208Z"
    }
   },
   "outputs": [
    {
     "data": {
      "text/plain": [
       "2959"
      ]
     },
     "execution_count": 28,
     "metadata": {},
     "output_type": "execute_result"
    }
   ],
   "source": [
    "fight_club_movie_id = movies.loc[movies['title'] == 'Fight Club (1999)', 'movieId'].values[0]\n",
    "fight_club_movie_id"
   ]
  },
  {
   "cell_type": "code",
   "execution_count": 29,
   "id": "6a6d8096",
   "metadata": {
    "ExecuteTime": {
     "end_time": "2024-01-06T06:45:53.105884Z",
     "start_time": "2024-01-06T06:45:53.089265Z"
    }
   },
   "outputs": [
    {
     "data": {
      "text/plain": [
       "192      5.0\n",
       "458      2.0\n",
       "1134     0.5\n",
       "1479     2.5\n",
       "1635     3.5\n",
       "        ... \n",
       "95893    5.0\n",
       "96788    4.0\n",
       "97835    5.0\n",
       "99107    5.0\n",
       "99699    5.0\n",
       "Name: rating, Length: 218, dtype: float64"
      ]
     },
     "execution_count": 29,
     "metadata": {},
     "output_type": "execute_result"
    }
   ],
   "source": [
    "fight_club_ratings = ratings.loc[ratings['movieId'] == fight_club_movie_id, 'rating']\n",
    "fight_club_ratings"
   ]
  },
  {
   "cell_type": "code",
   "execution_count": 30,
   "id": "08ccd90d",
   "metadata": {
    "ExecuteTime": {
     "end_time": "2024-01-06T06:46:12.271946Z",
     "start_time": "2024-01-06T06:46:10.583016Z"
    }
   },
   "outputs": [
    {
     "data": {
      "image/png": "[encoded data removed]",
      "text/plain": [
       "<Figure size 640x480 with 1 Axes>"
      ]
     },
     "metadata": {},
     "output_type": "display_data"
    }
   ],
   "source": [
    "plt.hist(fight_club_ratings, bins=5, edgecolor='black')\n",
    "plt.xlabel('User Ratings')\n",
    "plt.ylabel('Frequency')\n",
    "plt.title('Distribution of User Ratings for \"Fight Club (1999)\"')\n",
    "plt.show()"
   ]
  },
  {
   "cell_type": "code",
   "execution_count": 31,
   "id": "bb65ab9e",
   "metadata": {
    "ExecuteTime": {
     "end_time": "2024-01-06T06:48:17.345879Z",
     "start_time": "2024-01-06T06:48:17.320783Z"
    }
   },
   "outputs": [],
   "source": [
    "# Step 1: Group user ratings based on movieId and apply aggregation operations\n",
    "grouped_ratings = ratings.groupby('movieId').agg({'rating': ['count', 'mean']})"
   ]
  },
  {
   "cell_type": "code",
   "execution_count": 32,
   "id": "7b758fc9",
   "metadata": {
    "ExecuteTime": {
     "end_time": "2024-01-06T06:48:55.969932Z",
     "start_time": "2024-01-06T06:48:54.888950Z"
    }
   },
   "outputs": [
    {
     "ename": "MergeError",
     "evalue": "Not allowed to merge between different levels. (1 levels on the left, 2 on the right)",
     "output_type": "error",
     "traceback": [
      "\u001b[1;31m---------------------------------------------------------------------------\u001b[0m",
      "\u001b[1;31mMergeError\u001b[0m                                Traceback (most recent call last)",
      "Cell \u001b[1;32mIn[32], line 1\u001b[0m\n\u001b[1;32m----> 1\u001b[0m merged_df \u001b[38;5;241m=\u001b[39m pd\u001b[38;5;241m.\u001b[39mmerge(movies, grouped_ratings, left_on\u001b[38;5;241m=\u001b[39m\u001b[38;5;124m'\u001b[39m\u001b[38;5;124mmovieId\u001b[39m\u001b[38;5;124m'\u001b[39m, right_index\u001b[38;5;241m=\u001b[39m\u001b[38;5;28;01mTrue\u001b[39;00m, how\u001b[38;5;241m=\u001b[39m\u001b[38;5;124m'\u001b[39m\u001b[38;5;124minner\u001b[39m\u001b[38;5;124m'\u001b[39m)\n",
      "File \u001b[1;32m~\\anaconda3\\Lib\\site-packages\\pandas\\core\\reshape\\merge.py:148\u001b[0m, in \u001b[0;36mmerge\u001b[1;34m(left, right, how, on, left_on, right_on, left_index, right_index, sort, suffixes, copy, indicator, validate)\u001b[0m\n\u001b[0;32m    131\u001b[0m \u001b[38;5;129m@Substitution\u001b[39m(\u001b[38;5;124m\"\u001b[39m\u001b[38;5;130;01m\\n\u001b[39;00m\u001b[38;5;124mleft : DataFrame or named Series\u001b[39m\u001b[38;5;124m\"\u001b[39m)\n\u001b[0;32m    132\u001b[0m \u001b[38;5;129m@Appender\u001b[39m(_merge_doc, indents\u001b[38;5;241m=\u001b[39m\u001b[38;5;241m0\u001b[39m)\n\u001b[0;32m    133\u001b[0m \u001b[38;5;28;01mdef\u001b[39;00m \u001b[38;5;21mmerge\u001b[39m(\n\u001b[1;32m   (...)\u001b[0m\n\u001b[0;32m    146\u001b[0m     validate: \u001b[38;5;28mstr\u001b[39m \u001b[38;5;241m|\u001b[39m \u001b[38;5;28;01mNone\u001b[39;00m \u001b[38;5;241m=\u001b[39m \u001b[38;5;28;01mNone\u001b[39;00m,\n\u001b[0;32m    147\u001b[0m ) \u001b[38;5;241m-\u001b[39m\u001b[38;5;241m>\u001b[39m DataFrame:\n\u001b[1;32m--> 148\u001b[0m     op \u001b[38;5;241m=\u001b[39m _MergeOperation(\n\u001b[0;32m    149\u001b[0m         left,\n\u001b[0;32m    150\u001b[0m         right,\n\u001b[0;32m    151\u001b[0m         how\u001b[38;5;241m=\u001b[39mhow,\n\u001b[0;32m    152\u001b[0m         on\u001b[38;5;241m=\u001b[39mon,\n\u001b[0;32m    153\u001b[0m         left_on\u001b[38;5;241m=\u001b[39mleft_on,\n\u001b[0;32m    154\u001b[0m         right_on\u001b[38;5;241m=\u001b[39mright_on,\n\u001b[0;32m    155\u001b[0m         left_index\u001b[38;5;241m=\u001b[39mleft_index,\n\u001b[0;32m    156\u001b[0m         right_index\u001b[38;5;241m=\u001b[39mright_index,\n\u001b[0;32m    157\u001b[0m         sort\u001b[38;5;241m=\u001b[39msort,\n\u001b[0;32m    158\u001b[0m         suffixes\u001b[38;5;241m=\u001b[39msuffixes,\n\u001b[0;32m    159\u001b[0m         indicator\u001b[38;5;241m=\u001b[39mindicator,\n\u001b[0;32m    160\u001b[0m         validate\u001b[38;5;241m=\u001b[39mvalidate,\n\u001b[0;32m    161\u001b[0m     )\n\u001b[0;32m    162\u001b[0m     \u001b[38;5;28;01mreturn\u001b[39;00m op\u001b[38;5;241m.\u001b[39mget_result(copy\u001b[38;5;241m=\u001b[39mcopy)\n",
      "File \u001b[1;32m~\\anaconda3\\Lib\\site-packages\\pandas\\core\\reshape\\merge.py:717\u001b[0m, in \u001b[0;36m_MergeOperation.__init__\u001b[1;34m(self, left, right, how, on, left_on, right_on, axis, left_index, right_index, sort, suffixes, indicator, validate)\u001b[0m\n\u001b[0;32m    711\u001b[0m \u001b[38;5;28;01mif\u001b[39;00m _left\u001b[38;5;241m.\u001b[39mcolumns\u001b[38;5;241m.\u001b[39mnlevels \u001b[38;5;241m!=\u001b[39m _right\u001b[38;5;241m.\u001b[39mcolumns\u001b[38;5;241m.\u001b[39mnlevels:\n\u001b[0;32m    712\u001b[0m     msg \u001b[38;5;241m=\u001b[39m (\n\u001b[0;32m    713\u001b[0m         \u001b[38;5;124m\"\u001b[39m\u001b[38;5;124mNot allowed to merge between different levels. \u001b[39m\u001b[38;5;124m\"\u001b[39m\n\u001b[0;32m    714\u001b[0m         \u001b[38;5;124mf\u001b[39m\u001b[38;5;124m\"\u001b[39m\u001b[38;5;124m(\u001b[39m\u001b[38;5;132;01m{\u001b[39;00m_left\u001b[38;5;241m.\u001b[39mcolumns\u001b[38;5;241m.\u001b[39mnlevels\u001b[38;5;132;01m}\u001b[39;00m\u001b[38;5;124m levels on the left, \u001b[39m\u001b[38;5;124m\"\u001b[39m\n\u001b[0;32m    715\u001b[0m         \u001b[38;5;124mf\u001b[39m\u001b[38;5;124m\"\u001b[39m\u001b[38;5;132;01m{\u001b[39;00m_right\u001b[38;5;241m.\u001b[39mcolumns\u001b[38;5;241m.\u001b[39mnlevels\u001b[38;5;132;01m}\u001b[39;00m\u001b[38;5;124m on the right)\u001b[39m\u001b[38;5;124m\"\u001b[39m\n\u001b[0;32m    716\u001b[0m     )\n\u001b[1;32m--> 717\u001b[0m     \u001b[38;5;28;01mraise\u001b[39;00m MergeError(msg)\n\u001b[0;32m    719\u001b[0m \u001b[38;5;28mself\u001b[39m\u001b[38;5;241m.\u001b[39mleft_on, \u001b[38;5;28mself\u001b[39m\u001b[38;5;241m.\u001b[39mright_on \u001b[38;5;241m=\u001b[39m \u001b[38;5;28mself\u001b[39m\u001b[38;5;241m.\u001b[39m_validate_left_right_on(left_on, right_on)\n\u001b[0;32m    721\u001b[0m cross_col \u001b[38;5;241m=\u001b[39m \u001b[38;5;28;01mNone\u001b[39;00m\n",
      "\u001b[1;31mMergeError\u001b[0m: Not allowed to merge between different levels. (1 levels on the left, 2 on the right)"
     ]
    }
   ],
   "source": [
    "merged_df = pd.merge(movies, grouped_ratings, left_on='movieId', right_index=True, how='inner')"
   ]
  },
  {
   "cell_type": "code",
   "execution_count": 33,
   "id": "e6326942",
   "metadata": {
    "ExecuteTime": {
     "end_time": "2024-01-06T06:49:54.439273Z",
     "start_time": "2024-01-06T06:49:54.432101Z"
    }
   },
   "outputs": [],
   "source": [
    "grouped_ratings.columns = ['_'.join(col).strip() for col in grouped_ratings.columns.values]"
   ]
  },
  {
   "cell_type": "code",
   "execution_count": 35,
   "id": "656bcadc",
   "metadata": {
    "ExecuteTime": {
     "end_time": "2024-01-06T06:50:16.045284Z",
     "start_time": "2024-01-06T06:50:15.823050Z"
    }
   },
   "outputs": [],
   "source": [
    "merged_df = pd.merge(movies, grouped_ratings, left_on='movieId', right_index=True, how='inner')"
   ]
  },
  {
   "cell_type": "code",
   "execution_count": 36,
   "id": "515f709d",
   "metadata": {
    "ExecuteTime": {
     "end_time": "2024-01-06T06:50:40.138295Z",
     "start_time": "2024-01-06T06:50:40.111525Z"
    }
   },
   "outputs": [
    {
     "data": {
      "text/html": [
       "<div>\n",
       "<style scoped>\n",
       "    .dataframe tbody tr th:only-of-type {\n",
       "        vertical-align: middle;\n",
       "    }\n",
       "\n",
       "    .dataframe tbody tr th {\n",
       "        vertical-align: top;\n",
       "    }\n",
       "\n",
       "    .dataframe thead th {\n",
       "        text-align: right;\n",
       "    }\n",
       "</style>\n",
       "<table border=\"1\" class=\"dataframe\">\n",
       "  <thead>\n",
       "    <tr style=\"text-align: right;\">\n",
       "      <th></th>\n",
       "      <th>movieId</th>\n",
       "      <th>title</th>\n",
       "      <th>genres</th>\n",
       "      <th>rating_count</th>\n",
       "      <th>rating_mean</th>\n",
       "    </tr>\n",
       "  </thead>\n",
       "  <tbody>\n",
       "    <tr>\n",
       "      <th>0</th>\n",
       "      <td>1</td>\n",
       "      <td>Toy Story (1995)</td>\n",
       "      <td>Adventure|Animation|Children|Comedy|Fantasy</td>\n",
       "      <td>215</td>\n",
       "      <td>3.920930</td>\n",
       "    </tr>\n",
       "    <tr>\n",
       "      <th>1</th>\n",
       "      <td>2</td>\n",
       "      <td>Jumanji (1995)</td>\n",
       "      <td>Adventure|Children|Fantasy</td>\n",
       "      <td>110</td>\n",
       "      <td>3.431818</td>\n",
       "    </tr>\n",
       "    <tr>\n",
       "      <th>2</th>\n",
       "      <td>3</td>\n",
       "      <td>Grumpier Old Men (1995)</td>\n",
       "      <td>Comedy|Romance</td>\n",
       "      <td>52</td>\n",
       "      <td>3.259615</td>\n",
       "    </tr>\n",
       "    <tr>\n",
       "      <th>5</th>\n",
       "      <td>6</td>\n",
       "      <td>Heat (1995)</td>\n",
       "      <td>Action|Crime|Thriller</td>\n",
       "      <td>102</td>\n",
       "      <td>3.946078</td>\n",
       "    </tr>\n",
       "    <tr>\n",
       "      <th>6</th>\n",
       "      <td>7</td>\n",
       "      <td>Sabrina (1995)</td>\n",
       "      <td>Comedy|Romance</td>\n",
       "      <td>54</td>\n",
       "      <td>3.185185</td>\n",
       "    </tr>\n",
       "    <tr>\n",
       "      <th>...</th>\n",
       "      <td>...</td>\n",
       "      <td>...</td>\n",
       "      <td>...</td>\n",
       "      <td>...</td>\n",
       "      <td>...</td>\n",
       "    </tr>\n",
       "    <tr>\n",
       "      <th>8305</th>\n",
       "      <td>106782</td>\n",
       "      <td>Wolf of Wall Street, The (2013)</td>\n",
       "      <td>Comedy|Crime|Drama</td>\n",
       "      <td>54</td>\n",
       "      <td>3.916667</td>\n",
       "    </tr>\n",
       "    <tr>\n",
       "      <th>8372</th>\n",
       "      <td>109374</td>\n",
       "      <td>Grand Budapest Hotel, The (2014)</td>\n",
       "      <td>Comedy|Drama</td>\n",
       "      <td>52</td>\n",
       "      <td>3.778846</td>\n",
       "    </tr>\n",
       "    <tr>\n",
       "      <th>8376</th>\n",
       "      <td>109487</td>\n",
       "      <td>Interstellar (2014)</td>\n",
       "      <td>Sci-Fi|IMAX</td>\n",
       "      <td>73</td>\n",
       "      <td>3.993151</td>\n",
       "    </tr>\n",
       "    <tr>\n",
       "      <th>8475</th>\n",
       "      <td>112852</td>\n",
       "      <td>Guardians of the Galaxy (2014)</td>\n",
       "      <td>Action|Adventure|Sci-Fi</td>\n",
       "      <td>59</td>\n",
       "      <td>4.050847</td>\n",
       "    </tr>\n",
       "    <tr>\n",
       "      <th>8691</th>\n",
       "      <td>122904</td>\n",
       "      <td>Deadpool (2016)</td>\n",
       "      <td>Action|Adventure|Comedy|Sci-Fi</td>\n",
       "      <td>54</td>\n",
       "      <td>3.833333</td>\n",
       "    </tr>\n",
       "  </tbody>\n",
       "</table>\n",
       "<p>436 rows × 5 columns</p>\n",
       "</div>"
      ],
      "text/plain": [
       "      movieId                             title  \\\n",
       "0           1                  Toy Story (1995)   \n",
       "1           2                    Jumanji (1995)   \n",
       "2           3           Grumpier Old Men (1995)   \n",
       "5           6                       Heat (1995)   \n",
       "6           7                    Sabrina (1995)   \n",
       "...       ...                               ...   \n",
       "8305   106782   Wolf of Wall Street, The (2013)   \n",
       "8372   109374  Grand Budapest Hotel, The (2014)   \n",
       "8376   109487               Interstellar (2014)   \n",
       "8475   112852    Guardians of the Galaxy (2014)   \n",
       "8691   122904                   Deadpool (2016)   \n",
       "\n",
       "                                           genres  rating_count  rating_mean  \n",
       "0     Adventure|Animation|Children|Comedy|Fantasy           215     3.920930  \n",
       "1                      Adventure|Children|Fantasy           110     3.431818  \n",
       "2                                  Comedy|Romance            52     3.259615  \n",
       "5                           Action|Crime|Thriller           102     3.946078  \n",
       "6                                  Comedy|Romance            54     3.185185  \n",
       "...                                           ...           ...          ...  \n",
       "8305                           Comedy|Crime|Drama            54     3.916667  \n",
       "8372                                 Comedy|Drama            52     3.778846  \n",
       "8376                                  Sci-Fi|IMAX            73     3.993151  \n",
       "8475                      Action|Adventure|Sci-Fi            59     4.050847  \n",
       "8691               Action|Adventure|Comedy|Sci-Fi            54     3.833333  \n",
       "\n",
       "[436 rows x 5 columns]"
      ]
     },
     "execution_count": 36,
     "metadata": {},
     "output_type": "execute_result"
    }
   ],
   "source": [
    "filtered_df = merged_df[merged_df['rating_count'] > 50]\n",
    "filtered_df"
   ]
  },
  {
   "cell_type": "code",
   "execution_count": 37,
   "id": "f389ce93",
   "metadata": {
    "ExecuteTime": {
     "end_time": "2024-01-06T06:51:40.184894Z",
     "start_time": "2024-01-06T06:51:40.120413Z"
    }
   },
   "outputs": [
    {
     "data": {
      "text/plain": [
       "movieId                                      318\n",
       "title           Shawshank Redemption, The (1994)\n",
       "genres                               Crime|Drama\n",
       "rating_count                                 317\n",
       "rating_mean                             4.429022\n",
       "Name: 277, dtype: object"
      ]
     },
     "execution_count": 37,
     "metadata": {},
     "output_type": "execute_result"
    }
   ],
   "source": [
    "filtered_df.loc[filtered_df['rating_mean'].idxmax()]"
   ]
  },
  {
   "cell_type": "code",
   "execution_count": 38,
   "id": "f6b1d488",
   "metadata": {
    "ExecuteTime": {
     "end_time": "2024-01-06T06:52:34.827951Z",
     "start_time": "2024-01-06T06:52:34.802423Z"
    }
   },
   "outputs": [
    {
     "data": {
      "text/html": [
       "<div>\n",
       "<style scoped>\n",
       "    .dataframe tbody tr th:only-of-type {\n",
       "        vertical-align: middle;\n",
       "    }\n",
       "\n",
       "    .dataframe tbody tr th {\n",
       "        vertical-align: top;\n",
       "    }\n",
       "\n",
       "    .dataframe thead th {\n",
       "        text-align: right;\n",
       "    }\n",
       "</style>\n",
       "<table border=\"1\" class=\"dataframe\">\n",
       "  <thead>\n",
       "    <tr style=\"text-align: right;\">\n",
       "      <th></th>\n",
       "      <th>movieId</th>\n",
       "      <th>title</th>\n",
       "      <th>genres</th>\n",
       "      <th>rating_count</th>\n",
       "      <th>rating_mean</th>\n",
       "    </tr>\n",
       "  </thead>\n",
       "  <tbody>\n",
       "    <tr>\n",
       "      <th>314</th>\n",
       "      <td>356</td>\n",
       "      <td>Forrest Gump (1994)</td>\n",
       "      <td>Comedy|Drama|Romance|War</td>\n",
       "      <td>329</td>\n",
       "      <td>4.164134</td>\n",
       "    </tr>\n",
       "    <tr>\n",
       "      <th>277</th>\n",
       "      <td>318</td>\n",
       "      <td>Shawshank Redemption, The (1994)</td>\n",
       "      <td>Crime|Drama</td>\n",
       "      <td>317</td>\n",
       "      <td>4.429022</td>\n",
       "    </tr>\n",
       "    <tr>\n",
       "      <th>257</th>\n",
       "      <td>296</td>\n",
       "      <td>Pulp Fiction (1994)</td>\n",
       "      <td>Comedy|Crime|Drama|Thriller</td>\n",
       "      <td>307</td>\n",
       "      <td>4.197068</td>\n",
       "    </tr>\n",
       "    <tr>\n",
       "      <th>510</th>\n",
       "      <td>593</td>\n",
       "      <td>Silence of the Lambs, The (1991)</td>\n",
       "      <td>Crime|Horror|Thriller</td>\n",
       "      <td>279</td>\n",
       "      <td>4.161290</td>\n",
       "    </tr>\n",
       "    <tr>\n",
       "      <th>1939</th>\n",
       "      <td>2571</td>\n",
       "      <td>Matrix, The (1999)</td>\n",
       "      <td>Action|Sci-Fi|Thriller</td>\n",
       "      <td>278</td>\n",
       "      <td>4.192446</td>\n",
       "    </tr>\n",
       "  </tbody>\n",
       "</table>\n",
       "</div>"
      ],
      "text/plain": [
       "      movieId                             title                       genres  \\\n",
       "314       356               Forrest Gump (1994)     Comedy|Drama|Romance|War   \n",
       "277       318  Shawshank Redemption, The (1994)                  Crime|Drama   \n",
       "257       296               Pulp Fiction (1994)  Comedy|Crime|Drama|Thriller   \n",
       "510       593  Silence of the Lambs, The (1991)        Crime|Horror|Thriller   \n",
       "1939     2571                Matrix, The (1999)       Action|Sci-Fi|Thriller   \n",
       "\n",
       "      rating_count  rating_mean  \n",
       "314            329     4.164134  \n",
       "277            317     4.429022  \n",
       "257            307     4.197068  \n",
       "510            279     4.161290  \n",
       "1939           278     4.192446  "
      ]
     },
     "execution_count": 38,
     "metadata": {},
     "output_type": "execute_result"
    }
   ],
   "source": [
    "filtered_df.sort_values(by='rating_count', ascending=False).head(5)"
   ]
  },
  {
   "cell_type": "code",
   "execution_count": 40,
   "id": "f9fa1733",
   "metadata": {
    "ExecuteTime": {
     "end_time": "2024-01-06T06:54:21.242129Z",
     "start_time": "2024-01-06T06:54:21.215557Z"
    }
   },
   "outputs": [
    {
     "data": {
      "text/html": [
       "<div>\n",
       "<style scoped>\n",
       "    .dataframe tbody tr th:only-of-type {\n",
       "        vertical-align: middle;\n",
       "    }\n",
       "\n",
       "    .dataframe tbody tr th {\n",
       "        vertical-align: top;\n",
       "    }\n",
       "\n",
       "    .dataframe thead th {\n",
       "        text-align: right;\n",
       "    }\n",
       "</style>\n",
       "<table border=\"1\" class=\"dataframe\">\n",
       "  <thead>\n",
       "    <tr style=\"text-align: right;\">\n",
       "      <th></th>\n",
       "      <th>movieId</th>\n",
       "      <th>title</th>\n",
       "      <th>genres</th>\n",
       "      <th>rating_count</th>\n",
       "      <th>rating_mean</th>\n",
       "    </tr>\n",
       "  </thead>\n",
       "  <tbody>\n",
       "    <tr>\n",
       "      <th>31</th>\n",
       "      <td>32</td>\n",
       "      <td>Twelve Monkeys (a.k.a. 12 Monkeys) (1995)</td>\n",
       "      <td>Mystery|Sci-Fi|Thriller</td>\n",
       "      <td>177</td>\n",
       "      <td>3.983051</td>\n",
       "    </tr>\n",
       "    <tr>\n",
       "      <th>133</th>\n",
       "      <td>160</td>\n",
       "      <td>Congo (1995)</td>\n",
       "      <td>Action|Adventure|Mystery|Sci-Fi</td>\n",
       "      <td>57</td>\n",
       "      <td>2.877193</td>\n",
       "    </tr>\n",
       "    <tr>\n",
       "      <th>144</th>\n",
       "      <td>172</td>\n",
       "      <td>Johnny Mnemonic (1995)</td>\n",
       "      <td>Action|Sci-Fi|Thriller</td>\n",
       "      <td>53</td>\n",
       "      <td>2.679245</td>\n",
       "    </tr>\n",
       "    <tr>\n",
       "      <th>145</th>\n",
       "      <td>173</td>\n",
       "      <td>Judge Dredd (1995)</td>\n",
       "      <td>Action|Crime|Sci-Fi</td>\n",
       "      <td>62</td>\n",
       "      <td>2.669355</td>\n",
       "    </tr>\n",
       "    <tr>\n",
       "      <th>176</th>\n",
       "      <td>208</td>\n",
       "      <td>Waterworld (1995)</td>\n",
       "      <td>Action|Adventure|Sci-Fi</td>\n",
       "      <td>115</td>\n",
       "      <td>2.913043</td>\n",
       "    </tr>\n",
       "    <tr>\n",
       "      <th>...</th>\n",
       "      <td>...</td>\n",
       "      <td>...</td>\n",
       "      <td>...</td>\n",
       "      <td>...</td>\n",
       "      <td>...</td>\n",
       "    </tr>\n",
       "    <tr>\n",
       "      <th>7693</th>\n",
       "      <td>89745</td>\n",
       "      <td>Avengers, The (2012)</td>\n",
       "      <td>Action|Adventure|Sci-Fi|IMAX</td>\n",
       "      <td>69</td>\n",
       "      <td>3.869565</td>\n",
       "    </tr>\n",
       "    <tr>\n",
       "      <th>7767</th>\n",
       "      <td>91500</td>\n",
       "      <td>The Hunger Games (2012)</td>\n",
       "      <td>Action|Adventure|Drama|Sci-Fi|Thriller</td>\n",
       "      <td>54</td>\n",
       "      <td>3.435185</td>\n",
       "    </tr>\n",
       "    <tr>\n",
       "      <th>8376</th>\n",
       "      <td>109487</td>\n",
       "      <td>Interstellar (2014)</td>\n",
       "      <td>Sci-Fi|IMAX</td>\n",
       "      <td>73</td>\n",
       "      <td>3.993151</td>\n",
       "    </tr>\n",
       "    <tr>\n",
       "      <th>8475</th>\n",
       "      <td>112852</td>\n",
       "      <td>Guardians of the Galaxy (2014)</td>\n",
       "      <td>Action|Adventure|Sci-Fi</td>\n",
       "      <td>59</td>\n",
       "      <td>4.050847</td>\n",
       "    </tr>\n",
       "    <tr>\n",
       "      <th>8691</th>\n",
       "      <td>122904</td>\n",
       "      <td>Deadpool (2016)</td>\n",
       "      <td>Action|Adventure|Comedy|Sci-Fi</td>\n",
       "      <td>54</td>\n",
       "      <td>3.833333</td>\n",
       "    </tr>\n",
       "  </tbody>\n",
       "</table>\n",
       "<p>88 rows × 5 columns</p>\n",
       "</div>"
      ],
      "text/plain": [
       "      movieId                                      title  \\\n",
       "31         32  Twelve Monkeys (a.k.a. 12 Monkeys) (1995)   \n",
       "133       160                               Congo (1995)   \n",
       "144       172                     Johnny Mnemonic (1995)   \n",
       "145       173                         Judge Dredd (1995)   \n",
       "176       208                          Waterworld (1995)   \n",
       "...       ...                                        ...   \n",
       "7693    89745                       Avengers, The (2012)   \n",
       "7767    91500                    The Hunger Games (2012)   \n",
       "8376   109487                        Interstellar (2014)   \n",
       "8475   112852             Guardians of the Galaxy (2014)   \n",
       "8691   122904                            Deadpool (2016)   \n",
       "\n",
       "                                      genres  rating_count  rating_mean  \n",
       "31                   Mystery|Sci-Fi|Thriller           177     3.983051  \n",
       "133          Action|Adventure|Mystery|Sci-Fi            57     2.877193  \n",
       "144                   Action|Sci-Fi|Thriller            53     2.679245  \n",
       "145                      Action|Crime|Sci-Fi            62     2.669355  \n",
       "176                  Action|Adventure|Sci-Fi           115     2.913043  \n",
       "...                                      ...           ...          ...  \n",
       "7693            Action|Adventure|Sci-Fi|IMAX            69     3.869565  \n",
       "7767  Action|Adventure|Drama|Sci-Fi|Thriller            54     3.435185  \n",
       "8376                             Sci-Fi|IMAX            73     3.993151  \n",
       "8475                 Action|Adventure|Sci-Fi            59     4.050847  \n",
       "8691          Action|Adventure|Comedy|Sci-Fi            54     3.833333  \n",
       "\n",
       "[88 rows x 5 columns]"
      ]
     },
     "execution_count": 40,
     "metadata": {},
     "output_type": "execute_result"
    }
   ],
   "source": [
    "sci_fi_movies = filtered_df[filtered_df['genres'].str.contains('Sci-Fi')]\n",
    "sci_fi_movies"
   ]
  },
  {
   "cell_type": "code",
   "execution_count": 44,
   "id": "1421a23f",
   "metadata": {
    "ExecuteTime": {
     "end_time": "2024-01-06T06:55:37.816004Z",
     "start_time": "2024-01-06T06:55:37.791518Z"
    }
   },
   "outputs": [
    {
     "data": {
      "text/html": [
       "<div>\n",
       "<style scoped>\n",
       "    .dataframe tbody tr th:only-of-type {\n",
       "        vertical-align: middle;\n",
       "    }\n",
       "\n",
       "    .dataframe tbody tr th {\n",
       "        vertical-align: top;\n",
       "    }\n",
       "\n",
       "    .dataframe thead th {\n",
       "        text-align: right;\n",
       "    }\n",
       "</style>\n",
       "<table border=\"1\" class=\"dataframe\">\n",
       "  <thead>\n",
       "    <tr style=\"text-align: right;\">\n",
       "      <th></th>\n",
       "      <th>movieId</th>\n",
       "      <th>title</th>\n",
       "      <th>genres</th>\n",
       "      <th>rating_count</th>\n",
       "      <th>rating_mean</th>\n",
       "    </tr>\n",
       "  </thead>\n",
       "  <tbody>\n",
       "    <tr>\n",
       "      <th>1939</th>\n",
       "      <td>2571</td>\n",
       "      <td>Matrix, The (1999)</td>\n",
       "      <td>Action|Sci-Fi|Thriller</td>\n",
       "      <td>278</td>\n",
       "      <td>4.192446</td>\n",
       "    </tr>\n",
       "    <tr>\n",
       "      <th>224</th>\n",
       "      <td>260</td>\n",
       "      <td>Star Wars: Episode IV - A New Hope (1977)</td>\n",
       "      <td>Action|Adventure|Sci-Fi</td>\n",
       "      <td>251</td>\n",
       "      <td>4.231076</td>\n",
       "    </tr>\n",
       "    <tr>\n",
       "      <th>418</th>\n",
       "      <td>480</td>\n",
       "      <td>Jurassic Park (1993)</td>\n",
       "      <td>Action|Adventure|Sci-Fi|Thriller</td>\n",
       "      <td>238</td>\n",
       "      <td>3.750000</td>\n",
       "    </tr>\n",
       "    <tr>\n",
       "      <th>507</th>\n",
       "      <td>589</td>\n",
       "      <td>Terminator 2: Judgment Day (1991)</td>\n",
       "      <td>Action|Sci-Fi</td>\n",
       "      <td>224</td>\n",
       "      <td>3.970982</td>\n",
       "    </tr>\n",
       "    <tr>\n",
       "      <th>898</th>\n",
       "      <td>1196</td>\n",
       "      <td>Star Wars: Episode V - The Empire Strikes Back...</td>\n",
       "      <td>Action|Adventure|Sci-Fi</td>\n",
       "      <td>211</td>\n",
       "      <td>4.215640</td>\n",
       "    </tr>\n",
       "    <tr>\n",
       "      <th>...</th>\n",
       "      <td>...</td>\n",
       "      <td>...</td>\n",
       "      <td>...</td>\n",
       "      <td>...</td>\n",
       "      <td>...</td>\n",
       "    </tr>\n",
       "    <tr>\n",
       "      <th>8691</th>\n",
       "      <td>122904</td>\n",
       "      <td>Deadpool (2016)</td>\n",
       "      <td>Action|Adventure|Comedy|Sci-Fi</td>\n",
       "      <td>54</td>\n",
       "      <td>3.833333</td>\n",
       "    </tr>\n",
       "    <tr>\n",
       "      <th>144</th>\n",
       "      <td>172</td>\n",
       "      <td>Johnny Mnemonic (1995)</td>\n",
       "      <td>Action|Sci-Fi|Thriller</td>\n",
       "      <td>53</td>\n",
       "      <td>2.679245</td>\n",
       "    </tr>\n",
       "    <tr>\n",
       "      <th>2029</th>\n",
       "      <td>2701</td>\n",
       "      <td>Wild Wild West (1999)</td>\n",
       "      <td>Action|Comedy|Sci-Fi|Western</td>\n",
       "      <td>53</td>\n",
       "      <td>2.207547</td>\n",
       "    </tr>\n",
       "    <tr>\n",
       "      <th>559</th>\n",
       "      <td>673</td>\n",
       "      <td>Space Jam (1996)</td>\n",
       "      <td>Adventure|Animation|Children|Comedy|Fantasy|Sc...</td>\n",
       "      <td>53</td>\n",
       "      <td>2.707547</td>\n",
       "    </tr>\n",
       "    <tr>\n",
       "      <th>6209</th>\n",
       "      <td>45499</td>\n",
       "      <td>X-Men: The Last Stand (2006)</td>\n",
       "      <td>Action|Sci-Fi|Thriller</td>\n",
       "      <td>52</td>\n",
       "      <td>3.355769</td>\n",
       "    </tr>\n",
       "  </tbody>\n",
       "</table>\n",
       "<p>88 rows × 5 columns</p>\n",
       "</div>"
      ],
      "text/plain": [
       "      movieId                                              title  \\\n",
       "1939     2571                                 Matrix, The (1999)   \n",
       "224       260          Star Wars: Episode IV - A New Hope (1977)   \n",
       "418       480                               Jurassic Park (1993)   \n",
       "507       589                  Terminator 2: Judgment Day (1991)   \n",
       "898      1196  Star Wars: Episode V - The Empire Strikes Back...   \n",
       "...       ...                                                ...   \n",
       "8691   122904                                    Deadpool (2016)   \n",
       "144       172                             Johnny Mnemonic (1995)   \n",
       "2029     2701                              Wild Wild West (1999)   \n",
       "559       673                                   Space Jam (1996)   \n",
       "6209    45499                       X-Men: The Last Stand (2006)   \n",
       "\n",
       "                                                 genres  rating_count  \\\n",
       "1939                             Action|Sci-Fi|Thriller           278   \n",
       "224                             Action|Adventure|Sci-Fi           251   \n",
       "418                    Action|Adventure|Sci-Fi|Thriller           238   \n",
       "507                                       Action|Sci-Fi           224   \n",
       "898                             Action|Adventure|Sci-Fi           211   \n",
       "...                                                 ...           ...   \n",
       "8691                     Action|Adventure|Comedy|Sci-Fi            54   \n",
       "144                              Action|Sci-Fi|Thriller            53   \n",
       "2029                       Action|Comedy|Sci-Fi|Western            53   \n",
       "559   Adventure|Animation|Children|Comedy|Fantasy|Sc...            53   \n",
       "6209                             Action|Sci-Fi|Thriller            52   \n",
       "\n",
       "      rating_mean  \n",
       "1939     4.192446  \n",
       "224      4.231076  \n",
       "418      3.750000  \n",
       "507      3.970982  \n",
       "898      4.215640  \n",
       "...           ...  \n",
       "8691     3.833333  \n",
       "144      2.679245  \n",
       "2029     2.207547  \n",
       "559      2.707547  \n",
       "6209     3.355769  \n",
       "\n",
       "[88 rows x 5 columns]"
      ]
     },
     "execution_count": 44,
     "metadata": {},
     "output_type": "execute_result"
    }
   ],
   "source": [
    "top_sci_fi_movies = sci_fi_movies.sort_values(by='rating_count', ascending=False)\n",
    "top_sci_fi_movies"
   ]
  },
  {
   "cell_type": "code",
   "execution_count": 45,
   "id": "f358499e",
   "metadata": {
    "ExecuteTime": {
     "end_time": "2024-01-06T06:55:40.883969Z",
     "start_time": "2024-01-06T06:55:40.871703Z"
    }
   },
   "outputs": [
    {
     "data": {
      "text/plain": [
       "movieId                                      480\n",
       "title                       Jurassic Park (1993)\n",
       "genres          Action|Adventure|Sci-Fi|Thriller\n",
       "rating_count                                 238\n",
       "rating_mean                                 3.75\n",
       "Name: 418, dtype: object"
      ]
     },
     "execution_count": 45,
     "metadata": {},
     "output_type": "execute_result"
    }
   ],
   "source": [
    "top_sci_fi_movies.iloc[2]"
   ]
  },
  {
   "cell_type": "code",
   "execution_count": 47,
   "id": "e03241db",
   "metadata": {
    "ExecuteTime": {
     "end_time": "2024-01-06T06:59:37.764342Z",
     "start_time": "2024-01-06T06:59:37.727754Z"
    }
   },
   "outputs": [
    {
     "data": {
      "text/html": [
       "<div>\n",
       "<style scoped>\n",
       "    .dataframe tbody tr th:only-of-type {\n",
       "        vertical-align: middle;\n",
       "    }\n",
       "\n",
       "    .dataframe tbody tr th {\n",
       "        vertical-align: top;\n",
       "    }\n",
       "\n",
       "    .dataframe thead th {\n",
       "        text-align: right;\n",
       "    }\n",
       "</style>\n",
       "<table border=\"1\" class=\"dataframe\">\n",
       "  <thead>\n",
       "    <tr style=\"text-align: right;\">\n",
       "      <th></th>\n",
       "      <th>movieId</th>\n",
       "      <th>imdbId</th>\n",
       "      <th>tmdbId</th>\n",
       "    </tr>\n",
       "  </thead>\n",
       "  <tbody>\n",
       "    <tr>\n",
       "      <th>0</th>\n",
       "      <td>1</td>\n",
       "      <td>114709</td>\n",
       "      <td>862.0</td>\n",
       "    </tr>\n",
       "    <tr>\n",
       "      <th>1</th>\n",
       "      <td>2</td>\n",
       "      <td>113497</td>\n",
       "      <td>8844.0</td>\n",
       "    </tr>\n",
       "    <tr>\n",
       "      <th>2</th>\n",
       "      <td>3</td>\n",
       "      <td>113228</td>\n",
       "      <td>15602.0</td>\n",
       "    </tr>\n",
       "    <tr>\n",
       "      <th>3</th>\n",
       "      <td>4</td>\n",
       "      <td>114885</td>\n",
       "      <td>31357.0</td>\n",
       "    </tr>\n",
       "    <tr>\n",
       "      <th>4</th>\n",
       "      <td>5</td>\n",
       "      <td>113041</td>\n",
       "      <td>11862.0</td>\n",
       "    </tr>\n",
       "    <tr>\n",
       "      <th>...</th>\n",
       "      <td>...</td>\n",
       "      <td>...</td>\n",
       "      <td>...</td>\n",
       "    </tr>\n",
       "    <tr>\n",
       "      <th>9737</th>\n",
       "      <td>193581</td>\n",
       "      <td>5476944</td>\n",
       "      <td>432131.0</td>\n",
       "    </tr>\n",
       "    <tr>\n",
       "      <th>9738</th>\n",
       "      <td>193583</td>\n",
       "      <td>5914996</td>\n",
       "      <td>445030.0</td>\n",
       "    </tr>\n",
       "    <tr>\n",
       "      <th>9739</th>\n",
       "      <td>193585</td>\n",
       "      <td>6397426</td>\n",
       "      <td>479308.0</td>\n",
       "    </tr>\n",
       "    <tr>\n",
       "      <th>9740</th>\n",
       "      <td>193587</td>\n",
       "      <td>8391976</td>\n",
       "      <td>483455.0</td>\n",
       "    </tr>\n",
       "    <tr>\n",
       "      <th>9741</th>\n",
       "      <td>193609</td>\n",
       "      <td>101726</td>\n",
       "      <td>37891.0</td>\n",
       "    </tr>\n",
       "  </tbody>\n",
       "</table>\n",
       "<p>9742 rows × 3 columns</p>\n",
       "</div>"
      ],
      "text/plain": [
       "      movieId   imdbId    tmdbId\n",
       "0           1   114709     862.0\n",
       "1           2   113497    8844.0\n",
       "2           3   113228   15602.0\n",
       "3           4   114885   31357.0\n",
       "4           5   113041   11862.0\n",
       "...       ...      ...       ...\n",
       "9737   193581  5476944  432131.0\n",
       "9738   193583  5914996  445030.0\n",
       "9739   193585  6397426  479308.0\n",
       "9740   193587  8391976  483455.0\n",
       "9741   193609   101726   37891.0\n",
       "\n",
       "[9742 rows x 3 columns]"
      ]
     },
     "execution_count": 47,
     "metadata": {},
     "output_type": "execute_result"
    }
   ],
   "source": [
    "links = pd.read_csv(\"links.csv\")\n",
    "links"
   ]
  },
  {
   "cell_type": "code",
   "execution_count": 48,
   "id": "55c21e37",
   "metadata": {
    "ExecuteTime": {
     "end_time": "2024-01-06T07:09:31.570813Z",
     "start_time": "2024-01-06T07:00:17.848233Z"
    }
   },
   "outputs": [
    {
     "name": "stdout",
     "output_type": "stream",
     "text": [
      "Failed to fetch reviews for movie ID 1.0\n",
      "Failed to fetch reviews for movie ID 2.0\n",
      "Failed to fetch reviews for movie ID 3.0\n",
      "Failed to fetch reviews for movie ID 4.0\n",
      "Failed to fetch reviews for movie ID 5.0\n",
      "Failed to fetch reviews for movie ID 6.0\n",
      "Failed to fetch reviews for movie ID 7.0\n",
      "Failed to fetch reviews for movie ID 8.0\n",
      "Failed to fetch reviews for movie ID 9.0\n",
      "Failed to fetch reviews for movie ID 10.0\n",
      "Failed to fetch reviews for movie ID 11.0\n",
      "Failed to fetch reviews for movie ID 12.0\n",
      "Failed to fetch reviews for movie ID 13.0\n",
      "Failed to fetch reviews for movie ID 14.0\n",
      "Failed to fetch reviews for movie ID 15.0\n",
      "Failed to fetch reviews for movie ID 16.0\n",
      "Failed to fetch reviews for movie ID 17.0\n",
      "Failed to fetch reviews for movie ID 18.0\n",
      "Failed to fetch reviews for movie ID 19.0\n",
      "Failed to fetch reviews for movie ID 20.0\n",
      "Failed to fetch reviews for movie ID 21.0\n",
      "Failed to fetch reviews for movie ID 22.0\n",
      "Failed to fetch reviews for movie ID 23.0\n",
      "Failed to fetch reviews for movie ID 24.0\n",
      "Failed to fetch reviews for movie ID 25.0\n",
      "Failed to fetch reviews for movie ID 26.0\n",
      "Failed to fetch reviews for movie ID 27.0\n",
      "Failed to fetch reviews for movie ID 28.0\n",
      "Failed to fetch reviews for movie ID 29.0\n",
      "Failed to fetch reviews for movie ID 30.0\n",
      "Failed to fetch reviews for movie ID 31.0\n",
      "Failed to fetch reviews for movie ID 32.0\n",
      "Failed to fetch reviews for movie ID 34.0\n",
      "Failed to fetch reviews for movie ID 36.0\n",
      "Failed to fetch reviews for movie ID 38.0\n",
      "Failed to fetch reviews for movie ID 39.0\n",
      "Failed to fetch reviews for movie ID 40.0\n",
      "Failed to fetch reviews for movie ID 41.0\n",
      "Failed to fetch reviews for movie ID 42.0\n",
      "Failed to fetch reviews for movie ID 43.0\n",
      "Failed to fetch reviews for movie ID 44.0\n",
      "Failed to fetch reviews for movie ID 45.0\n",
      "Failed to fetch reviews for movie ID 46.0\n",
      "Failed to fetch reviews for movie ID 47.0\n",
      "Failed to fetch reviews for movie ID 48.0\n",
      "Failed to fetch reviews for movie ID 49.0\n",
      "Failed to fetch reviews for movie ID 50.0\n",
      "Failed to fetch reviews for movie ID 52.0\n",
      "Failed to fetch reviews for movie ID 53.0\n",
      "Failed to fetch reviews for movie ID 54.0\n",
      "Failed to fetch reviews for movie ID 55.0\n",
      "Failed to fetch reviews for movie ID 57.0\n",
      "Failed to fetch reviews for movie ID 58.0\n",
      "Failed to fetch reviews for movie ID 60.0\n",
      "Failed to fetch reviews for movie ID 61.0\n",
      "Failed to fetch reviews for movie ID 62.0\n",
      "Failed to fetch reviews for movie ID 63.0\n",
      "Failed to fetch reviews for movie ID 64.0\n",
      "Failed to fetch reviews for movie ID 65.0\n",
      "Failed to fetch reviews for movie ID 66.0\n",
      "Failed to fetch reviews for movie ID 68.0\n",
      "Failed to fetch reviews for movie ID 69.0\n",
      "Failed to fetch reviews for movie ID 70.0\n",
      "Failed to fetch reviews for movie ID 71.0\n",
      "Failed to fetch reviews for movie ID 72.0\n",
      "Failed to fetch reviews for movie ID 73.0\n",
      "Failed to fetch reviews for movie ID 74.0\n",
      "Failed to fetch reviews for movie ID 75.0\n",
      "Failed to fetch reviews for movie ID 76.0\n",
      "Failed to fetch reviews for movie ID 77.0\n",
      "Failed to fetch reviews for movie ID 78.0\n",
      "Failed to fetch reviews for movie ID 79.0\n",
      "Failed to fetch reviews for movie ID 80.0\n",
      "Failed to fetch reviews for movie ID 81.0\n",
      "Failed to fetch reviews for movie ID 82.0\n",
      "Failed to fetch reviews for movie ID 83.0\n",
      "Failed to fetch reviews for movie ID 85.0\n",
      "Failed to fetch reviews for movie ID 86.0\n",
      "Failed to fetch reviews for movie ID 87.0\n",
      "Failed to fetch reviews for movie ID 88.0\n",
      "Failed to fetch reviews for movie ID 89.0\n",
      "Failed to fetch reviews for movie ID 92.0\n",
      "Failed to fetch reviews for movie ID 93.0\n",
      "Failed to fetch reviews for movie ID 94.0\n",
      "Failed to fetch reviews for movie ID 95.0\n",
      "Failed to fetch reviews for movie ID 96.0\n",
      "Failed to fetch reviews for movie ID 97.0\n",
      "Failed to fetch reviews for movie ID 99.0\n",
      "Failed to fetch reviews for movie ID 100.0\n",
      "Failed to fetch reviews for movie ID 101.0\n",
      "Failed to fetch reviews for movie ID 102.0\n",
      "Failed to fetch reviews for movie ID 103.0\n",
      "Failed to fetch reviews for movie ID 104.0\n",
      "Failed to fetch reviews for movie ID 105.0\n",
      "Failed to fetch reviews for movie ID 106.0\n",
      "Failed to fetch reviews for movie ID 107.0\n",
      "Failed to fetch reviews for movie ID 108.0\n",
      "Failed to fetch reviews for movie ID 110.0\n",
      "Failed to fetch reviews for movie ID 111.0\n",
      "Failed to fetch reviews for movie ID 112.0\n",
      "Failed to fetch reviews for movie ID 113.0\n",
      "Failed to fetch reviews for movie ID 116.0\n",
      "Failed to fetch reviews for movie ID 117.0\n",
      "Failed to fetch reviews for movie ID 118.0\n",
      "Failed to fetch reviews for movie ID 119.0\n",
      "Failed to fetch reviews for movie ID 121.0\n",
      "Failed to fetch reviews for movie ID 122.0\n",
      "Failed to fetch reviews for movie ID 123.0\n",
      "Failed to fetch reviews for movie ID 125.0\n",
      "Failed to fetch reviews for movie ID 126.0\n",
      "Failed to fetch reviews for movie ID 128.0\n",
      "Failed to fetch reviews for movie ID 129.0\n",
      "Failed to fetch reviews for movie ID 132.0\n",
      "Failed to fetch reviews for movie ID 135.0\n",
      "Failed to fetch reviews for movie ID 137.0\n",
      "Failed to fetch reviews for movie ID 140.0\n",
      "Failed to fetch reviews for movie ID 141.0\n",
      "Failed to fetch reviews for movie ID 144.0\n",
      "Failed to fetch reviews for movie ID 145.0\n",
      "Failed to fetch reviews for movie ID 146.0\n",
      "Failed to fetch reviews for movie ID 147.0\n",
      "Failed to fetch reviews for movie ID 148.0\n",
      "Failed to fetch reviews for movie ID 149.0\n",
      "Failed to fetch reviews for movie ID 150.0\n",
      "Failed to fetch reviews for movie ID 151.0\n",
      "Failed to fetch reviews for movie ID 152.0\n",
      "Failed to fetch reviews for movie ID 153.0\n",
      "Failed to fetch reviews for movie ID 154.0\n",
      "Failed to fetch reviews for movie ID 155.0\n",
      "Failed to fetch reviews for movie ID 156.0\n",
      "Failed to fetch reviews for movie ID 157.0\n",
      "Failed to fetch reviews for movie ID 158.0\n",
      "Failed to fetch reviews for movie ID 159.0\n",
      "Failed to fetch reviews for movie ID 160.0\n",
      "Failed to fetch reviews for movie ID 161.0\n",
      "Failed to fetch reviews for movie ID 162.0\n",
      "Failed to fetch reviews for movie ID 163.0\n",
      "Failed to fetch reviews for movie ID 164.0\n",
      "Failed to fetch reviews for movie ID 165.0\n",
      "Failed to fetch reviews for movie ID 166.0\n",
      "Failed to fetch reviews for movie ID 168.0\n",
      "Failed to fetch reviews for movie ID 169.0\n",
      "Failed to fetch reviews for movie ID 170.0\n",
      "Failed to fetch reviews for movie ID 171.0\n",
      "Failed to fetch reviews for movie ID 172.0\n",
      "Failed to fetch reviews for movie ID 173.0\n",
      "Failed to fetch reviews for movie ID 174.0\n",
      "Failed to fetch reviews for movie ID 175.0\n",
      "Failed to fetch reviews for movie ID 176.0\n",
      "Failed to fetch reviews for movie ID 177.0\n",
      "Failed to fetch reviews for movie ID 178.0\n",
      "Failed to fetch reviews for movie ID 179.0\n",
      "Failed to fetch reviews for movie ID 180.0\n",
      "Failed to fetch reviews for movie ID 181.0\n",
      "Failed to fetch reviews for movie ID 183.0\n",
      "Failed to fetch reviews for movie ID 184.0\n",
      "Failed to fetch reviews for movie ID 185.0\n",
      "Failed to fetch reviews for movie ID 186.0\n",
      "Failed to fetch reviews for movie ID 187.0\n",
      "Failed to fetch reviews for movie ID 188.0\n",
      "Failed to fetch reviews for movie ID 189.0\n",
      "Failed to fetch reviews for movie ID 190.0\n",
      "Failed to fetch reviews for movie ID 191.0\n",
      "Failed to fetch reviews for movie ID 193.0\n",
      "Failed to fetch reviews for movie ID 194.0\n",
      "Failed to fetch reviews for movie ID 195.0\n",
      "Failed to fetch reviews for movie ID 196.0\n",
      "Failed to fetch reviews for movie ID 198.0\n",
      "Failed to fetch reviews for movie ID 199.0\n",
      "Failed to fetch reviews for movie ID 201.0\n",
      "Failed to fetch reviews for movie ID 202.0\n",
      "Failed to fetch reviews for movie ID 203.0\n",
      "Failed to fetch reviews for movie ID 204.0\n",
      "Failed to fetch reviews for movie ID 205.0\n",
      "Failed to fetch reviews for movie ID 206.0\n",
      "Failed to fetch reviews for movie ID 207.0\n",
      "Failed to fetch reviews for movie ID 208.0\n",
      "Failed to fetch reviews for movie ID 209.0\n",
      "Failed to fetch reviews for movie ID 210.0\n",
      "Failed to fetch reviews for movie ID 211.0\n",
      "Failed to fetch reviews for movie ID 212.0\n",
      "Failed to fetch reviews for movie ID 213.0\n",
      "Failed to fetch reviews for movie ID 214.0\n",
      "Failed to fetch reviews for movie ID 215.0\n",
      "Failed to fetch reviews for movie ID 216.0\n",
      "Failed to fetch reviews for movie ID 217.0\n",
      "Failed to fetch reviews for movie ID 218.0\n",
      "Failed to fetch reviews for movie ID 219.0\n",
      "Failed to fetch reviews for movie ID 220.0\n",
      "Failed to fetch reviews for movie ID 222.0\n",
      "Failed to fetch reviews for movie ID 223.0\n",
      "Failed to fetch reviews for movie ID 224.0\n",
      "Failed to fetch reviews for movie ID 225.0\n",
      "Failed to fetch reviews for movie ID 227.0\n",
      "Failed to fetch reviews for movie ID 228.0\n",
      "Failed to fetch reviews for movie ID 229.0\n",
      "Failed to fetch reviews for movie ID 230.0\n",
      "Failed to fetch reviews for movie ID 231.0\n",
      "Failed to fetch reviews for movie ID 232.0\n",
      "Failed to fetch reviews for movie ID 233.0\n",
      "Failed to fetch reviews for movie ID 234.0\n",
      "Failed to fetch reviews for movie ID 235.0\n",
      "Failed to fetch reviews for movie ID 236.0\n",
      "Failed to fetch reviews for movie ID 237.0\n",
      "Failed to fetch reviews for movie ID 238.0\n",
      "Failed to fetch reviews for movie ID 239.0\n",
      "Failed to fetch reviews for movie ID 240.0\n",
      "Failed to fetch reviews for movie ID 241.0\n",
      "Failed to fetch reviews for movie ID 242.0\n",
      "Failed to fetch reviews for movie ID 243.0\n",
      "Failed to fetch reviews for movie ID 246.0\n",
      "Failed to fetch reviews for movie ID 247.0\n",
      "Failed to fetch reviews for movie ID 248.0\n",
      "Failed to fetch reviews for movie ID 249.0\n",
      "Failed to fetch reviews for movie ID 250.0\n",
      "Failed to fetch reviews for movie ID 251.0\n",
      "Failed to fetch reviews for movie ID 252.0\n",
      "Failed to fetch reviews for movie ID 253.0\n",
      "Failed to fetch reviews for movie ID 254.0\n",
      "Failed to fetch reviews for movie ID 255.0\n",
      "Failed to fetch reviews for movie ID 256.0\n",
      "Failed to fetch reviews for movie ID 257.0\n",
      "Failed to fetch reviews for movie ID 258.0\n",
      "Failed to fetch reviews for movie ID 259.0\n",
      "Failed to fetch reviews for movie ID 260.0\n",
      "Failed to fetch reviews for movie ID 261.0\n",
      "Failed to fetch reviews for movie ID 262.0\n",
      "Failed to fetch reviews for movie ID 263.0\n",
      "Failed to fetch reviews for movie ID 265.0\n",
      "Failed to fetch reviews for movie ID 266.0\n",
      "Failed to fetch reviews for movie ID 267.0\n",
      "Failed to fetch reviews for movie ID 269.0\n",
      "Failed to fetch reviews for movie ID 270.0\n",
      "Failed to fetch reviews for movie ID 271.0\n",
      "Failed to fetch reviews for movie ID 272.0\n",
      "Failed to fetch reviews for movie ID 273.0\n",
      "Failed to fetch reviews for movie ID 274.0\n",
      "Failed to fetch reviews for movie ID 275.0\n",
      "Failed to fetch reviews for movie ID 276.0\n",
      "Failed to fetch reviews for movie ID 277.0\n",
      "Failed to fetch reviews for movie ID 278.0\n",
      "Failed to fetch reviews for movie ID 279.0\n",
      "Failed to fetch reviews for movie ID 280.0\n",
      "Failed to fetch reviews for movie ID 281.0\n",
      "Failed to fetch reviews for movie ID 282.0\n",
      "Failed to fetch reviews for movie ID 283.0\n",
      "Failed to fetch reviews for movie ID 284.0\n",
      "Failed to fetch reviews for movie ID 285.0\n",
      "Failed to fetch reviews for movie ID 287.0\n",
      "Failed to fetch reviews for movie ID 288.0\n",
      "Failed to fetch reviews for movie ID 289.0\n",
      "Failed to fetch reviews for movie ID 290.0\n",
      "Failed to fetch reviews for movie ID 291.0\n",
      "Failed to fetch reviews for movie ID 292.0\n",
      "Failed to fetch reviews for movie ID 293.0\n",
      "Failed to fetch reviews for movie ID 294.0\n",
      "Failed to fetch reviews for movie ID 295.0\n",
      "Failed to fetch reviews for movie ID 296.0\n",
      "Failed to fetch reviews for movie ID 298.0\n",
      "Failed to fetch reviews for movie ID 299.0\n",
      "Failed to fetch reviews for movie ID 300.0\n",
      "Failed to fetch reviews for movie ID 301.0\n",
      "Failed to fetch reviews for movie ID 302.0\n",
      "Failed to fetch reviews for movie ID 303.0\n",
      "Failed to fetch reviews for movie ID 304.0\n",
      "Failed to fetch reviews for movie ID 305.0\n",
      "Failed to fetch reviews for movie ID 306.0\n",
      "Failed to fetch reviews for movie ID 307.0\n",
      "Failed to fetch reviews for movie ID 308.0\n",
      "Failed to fetch reviews for movie ID 310.0\n",
      "Failed to fetch reviews for movie ID 311.0\n",
      "Failed to fetch reviews for movie ID 312.0\n",
      "Failed to fetch reviews for movie ID 313.0\n",
      "Failed to fetch reviews for movie ID 314.0\n",
      "Failed to fetch reviews for movie ID 315.0\n",
      "Failed to fetch reviews for movie ID 316.0\n",
      "Failed to fetch reviews for movie ID 317.0\n",
      "Failed to fetch reviews for movie ID 318.0\n",
      "Failed to fetch reviews for movie ID 319.0\n",
      "Failed to fetch reviews for movie ID 320.0\n",
      "Failed to fetch reviews for movie ID 321.0\n",
      "Failed to fetch reviews for movie ID 322.0\n",
      "Failed to fetch reviews for movie ID 324.0\n",
      "Failed to fetch reviews for movie ID 325.0\n",
      "Failed to fetch reviews for movie ID 326.0\n",
      "Failed to fetch reviews for movie ID 327.0\n",
      "Failed to fetch reviews for movie ID 328.0\n",
      "Failed to fetch reviews for movie ID 329.0\n",
      "Failed to fetch reviews for movie ID 330.0\n",
      "Failed to fetch reviews for movie ID 331.0\n",
      "Failed to fetch reviews for movie ID 332.0\n",
      "Failed to fetch reviews for movie ID 333.0\n",
      "Failed to fetch reviews for movie ID 334.0\n",
      "Failed to fetch reviews for movie ID 335.0\n",
      "Failed to fetch reviews for movie ID 336.0\n",
      "Failed to fetch reviews for movie ID 337.0\n",
      "Failed to fetch reviews for movie ID 338.0\n",
      "Failed to fetch reviews for movie ID 339.0\n",
      "Failed to fetch reviews for movie ID 340.0\n",
      "Failed to fetch reviews for movie ID 341.0\n",
      "Failed to fetch reviews for movie ID 342.0\n",
      "Failed to fetch reviews for movie ID 343.0\n",
      "Failed to fetch reviews for movie ID 344.0\n",
      "Failed to fetch reviews for movie ID 345.0\n",
      "Failed to fetch reviews for movie ID 346.0\n",
      "Failed to fetch reviews for movie ID 347.0\n",
      "Failed to fetch reviews for movie ID 348.0\n",
      "Failed to fetch reviews for movie ID 349.0\n",
      "Failed to fetch reviews for movie ID 350.0\n",
      "Failed to fetch reviews for movie ID 351.0\n",
      "Failed to fetch reviews for movie ID 352.0\n",
      "Failed to fetch reviews for movie ID 353.0\n",
      "Failed to fetch reviews for movie ID 354.0\n",
      "Failed to fetch reviews for movie ID 355.0\n",
      "Failed to fetch reviews for movie ID 356.0\n",
      "Failed to fetch reviews for movie ID 357.0\n",
      "Failed to fetch reviews for movie ID 358.0\n",
      "Failed to fetch reviews for movie ID 359.0\n",
      "Failed to fetch reviews for movie ID 360.0\n",
      "Failed to fetch reviews for movie ID 361.0\n",
      "Failed to fetch reviews for movie ID 362.0\n",
      "Failed to fetch reviews for movie ID 363.0\n",
      "Failed to fetch reviews for movie ID 364.0\n",
      "Failed to fetch reviews for movie ID 365.0\n",
      "Failed to fetch reviews for movie ID 366.0\n",
      "Failed to fetch reviews for movie ID 367.0\n",
      "Failed to fetch reviews for movie ID 368.0\n",
      "Failed to fetch reviews for movie ID 369.0\n",
      "Failed to fetch reviews for movie ID 370.0\n",
      "Failed to fetch reviews for movie ID 371.0\n",
      "Failed to fetch reviews for movie ID 372.0\n",
      "Failed to fetch reviews for movie ID 373.0\n",
      "Failed to fetch reviews for movie ID 374.0\n",
      "Failed to fetch reviews for movie ID 376.0\n",
      "Failed to fetch reviews for movie ID 377.0\n",
      "Failed to fetch reviews for movie ID 378.0\n",
      "Failed to fetch reviews for movie ID 379.0\n",
      "Failed to fetch reviews for movie ID 380.0\n",
      "Failed to fetch reviews for movie ID 381.0\n",
      "Failed to fetch reviews for movie ID 382.0\n",
      "Failed to fetch reviews for movie ID 383.0\n",
      "Failed to fetch reviews for movie ID 384.0\n",
      "Failed to fetch reviews for movie ID 385.0\n",
      "Failed to fetch reviews for movie ID 386.0\n",
      "Failed to fetch reviews for movie ID 387.0\n",
      "Failed to fetch reviews for movie ID 388.0\n",
      "Failed to fetch reviews for movie ID 389.0\n",
      "Failed to fetch reviews for movie ID 390.0\n",
      "Failed to fetch reviews for movie ID 391.0\n",
      "Failed to fetch reviews for movie ID 393.0\n",
      "Failed to fetch reviews for movie ID 405.0\n",
      "Failed to fetch reviews for movie ID 406.0\n",
      "Failed to fetch reviews for movie ID 407.0\n",
      "Failed to fetch reviews for movie ID 408.0\n",
      "Failed to fetch reviews for movie ID 409.0\n"
     ]
    },
    {
     "ename": "ConnectTimeout",
     "evalue": "HTTPConnectionPool(host='www.imdb.com', port=80): Max retries exceeded with url: /title/106220.0/reviews (Caused by ConnectTimeoutError(<urllib3.connection.HTTPConnection object at 0x0000029C822CEE90>, 'Connection to www.imdb.com timed out. (connect timeout=None)'))",
     "output_type": "error",
     "traceback": [
      "\u001b[1;31m---------------------------------------------------------------------------\u001b[0m",
      "\u001b[1;31mTimeoutError\u001b[0m                              Traceback (most recent call last)",
      "File \u001b[1;32m~\\anaconda3\\Lib\\site-packages\\urllib3\\connection.py:174\u001b[0m, in \u001b[0;36mHTTPConnection._new_conn\u001b[1;34m(self)\u001b[0m\n\u001b[0;32m    173\u001b[0m \u001b[38;5;28;01mtry\u001b[39;00m:\n\u001b[1;32m--> 174\u001b[0m     conn \u001b[38;5;241m=\u001b[39m connection\u001b[38;5;241m.\u001b[39mcreate_connection(\n\u001b[0;32m    175\u001b[0m         (\u001b[38;5;28mself\u001b[39m\u001b[38;5;241m.\u001b[39m_dns_host, \u001b[38;5;28mself\u001b[39m\u001b[38;5;241m.\u001b[39mport), \u001b[38;5;28mself\u001b[39m\u001b[38;5;241m.\u001b[39mtimeout, \u001b[38;5;241m*\u001b[39m\u001b[38;5;241m*\u001b[39mextra_kw\n\u001b[0;32m    176\u001b[0m     )\n\u001b[0;32m    178\u001b[0m \u001b[38;5;28;01mexcept\u001b[39;00m SocketTimeout:\n",
      "File \u001b[1;32m~\\anaconda3\\Lib\\site-packages\\urllib3\\util\\connection.py:95\u001b[0m, in \u001b[0;36mcreate_connection\u001b[1;34m(address, timeout, source_address, socket_options)\u001b[0m\n\u001b[0;32m     94\u001b[0m \u001b[38;5;28;01mif\u001b[39;00m err \u001b[38;5;129;01mis\u001b[39;00m \u001b[38;5;129;01mnot\u001b[39;00m \u001b[38;5;28;01mNone\u001b[39;00m:\n\u001b[1;32m---> 95\u001b[0m     \u001b[38;5;28;01mraise\u001b[39;00m err\n\u001b[0;32m     97\u001b[0m \u001b[38;5;28;01mraise\u001b[39;00m socket\u001b[38;5;241m.\u001b[39merror(\u001b[38;5;124m\"\u001b[39m\u001b[38;5;124mgetaddrinfo returns an empty list\u001b[39m\u001b[38;5;124m\"\u001b[39m)\n",
      "File \u001b[1;32m~\\anaconda3\\Lib\\site-packages\\urllib3\\util\\connection.py:85\u001b[0m, in \u001b[0;36mcreate_connection\u001b[1;34m(address, timeout, source_address, socket_options)\u001b[0m\n\u001b[0;32m     84\u001b[0m     sock\u001b[38;5;241m.\u001b[39mbind(source_address)\n\u001b[1;32m---> 85\u001b[0m sock\u001b[38;5;241m.\u001b[39mconnect(sa)\n\u001b[0;32m     86\u001b[0m \u001b[38;5;28;01mreturn\u001b[39;00m sock\n",
      "\u001b[1;31mTimeoutError\u001b[0m: [WinError 10060] A connection attempt failed because the connected party did not properly respond after a period of time, or established connection failed because connected host has failed to respond",
      "\nDuring handling of the above exception, another exception occurred:\n",
      "\u001b[1;31mConnectTimeoutError\u001b[0m                       Traceback (most recent call last)",
      "File \u001b[1;32m~\\anaconda3\\Lib\\site-packages\\urllib3\\connectionpool.py:714\u001b[0m, in \u001b[0;36mHTTPConnectionPool.urlopen\u001b[1;34m(self, method, url, body, headers, retries, redirect, assert_same_host, timeout, pool_timeout, release_conn, chunked, body_pos, **response_kw)\u001b[0m\n\u001b[0;32m    713\u001b[0m \u001b[38;5;66;03m# Make the request on the httplib connection object.\u001b[39;00m\n\u001b[1;32m--> 714\u001b[0m httplib_response \u001b[38;5;241m=\u001b[39m \u001b[38;5;28mself\u001b[39m\u001b[38;5;241m.\u001b[39m_make_request(\n\u001b[0;32m    715\u001b[0m     conn,\n\u001b[0;32m    716\u001b[0m     method,\n\u001b[0;32m    717\u001b[0m     url,\n\u001b[0;32m    718\u001b[0m     timeout\u001b[38;5;241m=\u001b[39mtimeout_obj,\n\u001b[0;32m    719\u001b[0m     body\u001b[38;5;241m=\u001b[39mbody,\n\u001b[0;32m    720\u001b[0m     headers\u001b[38;5;241m=\u001b[39mheaders,\n\u001b[0;32m    721\u001b[0m     chunked\u001b[38;5;241m=\u001b[39mchunked,\n\u001b[0;32m    722\u001b[0m )\n\u001b[0;32m    724\u001b[0m \u001b[38;5;66;03m# If we're going to release the connection in ``finally:``, then\u001b[39;00m\n\u001b[0;32m    725\u001b[0m \u001b[38;5;66;03m# the response doesn't need to know about the connection. Otherwise\u001b[39;00m\n\u001b[0;32m    726\u001b[0m \u001b[38;5;66;03m# it will also try to release it and we'll have a double-release\u001b[39;00m\n\u001b[0;32m    727\u001b[0m \u001b[38;5;66;03m# mess.\u001b[39;00m\n",
      "File \u001b[1;32m~\\anaconda3\\Lib\\site-packages\\urllib3\\connectionpool.py:415\u001b[0m, in \u001b[0;36mHTTPConnectionPool._make_request\u001b[1;34m(self, conn, method, url, timeout, chunked, **httplib_request_kw)\u001b[0m\n\u001b[0;32m    414\u001b[0m     \u001b[38;5;28;01melse\u001b[39;00m:\n\u001b[1;32m--> 415\u001b[0m         conn\u001b[38;5;241m.\u001b[39mrequest(method, url, \u001b[38;5;241m*\u001b[39m\u001b[38;5;241m*\u001b[39mhttplib_request_kw)\n\u001b[0;32m    417\u001b[0m \u001b[38;5;66;03m# We are swallowing BrokenPipeError (errno.EPIPE) since the server is\u001b[39;00m\n\u001b[0;32m    418\u001b[0m \u001b[38;5;66;03m# legitimately able to close the connection after sending a valid response.\u001b[39;00m\n\u001b[0;32m    419\u001b[0m \u001b[38;5;66;03m# With this behaviour, the received response is still readable.\u001b[39;00m\n",
      "File \u001b[1;32m~\\anaconda3\\Lib\\site-packages\\urllib3\\connection.py:244\u001b[0m, in \u001b[0;36mHTTPConnection.request\u001b[1;34m(self, method, url, body, headers)\u001b[0m\n\u001b[0;32m    243\u001b[0m     headers[\u001b[38;5;124m\"\u001b[39m\u001b[38;5;124mUser-Agent\u001b[39m\u001b[38;5;124m\"\u001b[39m] \u001b[38;5;241m=\u001b[39m _get_default_user_agent()\n\u001b[1;32m--> 244\u001b[0m \u001b[38;5;28msuper\u001b[39m(HTTPConnection, \u001b[38;5;28mself\u001b[39m)\u001b[38;5;241m.\u001b[39mrequest(method, url, body\u001b[38;5;241m=\u001b[39mbody, headers\u001b[38;5;241m=\u001b[39mheaders)\n",
      "File \u001b[1;32m~\\anaconda3\\Lib\\http\\client.py:1286\u001b[0m, in \u001b[0;36mHTTPConnection.request\u001b[1;34m(self, method, url, body, headers, encode_chunked)\u001b[0m\n\u001b[0;32m   1285\u001b[0m \u001b[38;5;250m\u001b[39m\u001b[38;5;124;03m\"\"\"Send a complete request to the server.\"\"\"\u001b[39;00m\n\u001b[1;32m-> 1286\u001b[0m \u001b[38;5;28mself\u001b[39m\u001b[38;5;241m.\u001b[39m_send_request(method, url, body, headers, encode_chunked)\n",
      "File \u001b[1;32m~\\anaconda3\\Lib\\http\\client.py:1332\u001b[0m, in \u001b[0;36mHTTPConnection._send_request\u001b[1;34m(self, method, url, body, headers, encode_chunked)\u001b[0m\n\u001b[0;32m   1331\u001b[0m     body \u001b[38;5;241m=\u001b[39m _encode(body, \u001b[38;5;124m'\u001b[39m\u001b[38;5;124mbody\u001b[39m\u001b[38;5;124m'\u001b[39m)\n\u001b[1;32m-> 1332\u001b[0m \u001b[38;5;28mself\u001b[39m\u001b[38;5;241m.\u001b[39mendheaders(body, encode_chunked\u001b[38;5;241m=\u001b[39mencode_chunked)\n",
      "File \u001b[1;32m~\\anaconda3\\Lib\\http\\client.py:1281\u001b[0m, in \u001b[0;36mHTTPConnection.endheaders\u001b[1;34m(self, message_body, encode_chunked)\u001b[0m\n\u001b[0;32m   1280\u001b[0m     \u001b[38;5;28;01mraise\u001b[39;00m CannotSendHeader()\n\u001b[1;32m-> 1281\u001b[0m \u001b[38;5;28mself\u001b[39m\u001b[38;5;241m.\u001b[39m_send_output(message_body, encode_chunked\u001b[38;5;241m=\u001b[39mencode_chunked)\n",
      "File \u001b[1;32m~\\anaconda3\\Lib\\http\\client.py:1041\u001b[0m, in \u001b[0;36mHTTPConnection._send_output\u001b[1;34m(self, message_body, encode_chunked)\u001b[0m\n\u001b[0;32m   1040\u001b[0m \u001b[38;5;28;01mdel\u001b[39;00m \u001b[38;5;28mself\u001b[39m\u001b[38;5;241m.\u001b[39m_buffer[:]\n\u001b[1;32m-> 1041\u001b[0m \u001b[38;5;28mself\u001b[39m\u001b[38;5;241m.\u001b[39msend(msg)\n\u001b[0;32m   1043\u001b[0m \u001b[38;5;28;01mif\u001b[39;00m message_body \u001b[38;5;129;01mis\u001b[39;00m \u001b[38;5;129;01mnot\u001b[39;00m \u001b[38;5;28;01mNone\u001b[39;00m:\n\u001b[0;32m   1044\u001b[0m \n\u001b[0;32m   1045\u001b[0m     \u001b[38;5;66;03m# create a consistent interface to message_body\u001b[39;00m\n",
      "File \u001b[1;32m~\\anaconda3\\Lib\\http\\client.py:979\u001b[0m, in \u001b[0;36mHTTPConnection.send\u001b[1;34m(self, data)\u001b[0m\n\u001b[0;32m    978\u001b[0m \u001b[38;5;28;01mif\u001b[39;00m \u001b[38;5;28mself\u001b[39m\u001b[38;5;241m.\u001b[39mauto_open:\n\u001b[1;32m--> 979\u001b[0m     \u001b[38;5;28mself\u001b[39m\u001b[38;5;241m.\u001b[39mconnect()\n\u001b[0;32m    980\u001b[0m \u001b[38;5;28;01melse\u001b[39;00m:\n",
      "File \u001b[1;32m~\\anaconda3\\Lib\\site-packages\\urllib3\\connection.py:205\u001b[0m, in \u001b[0;36mHTTPConnection.connect\u001b[1;34m(self)\u001b[0m\n\u001b[0;32m    204\u001b[0m \u001b[38;5;28;01mdef\u001b[39;00m \u001b[38;5;21mconnect\u001b[39m(\u001b[38;5;28mself\u001b[39m):\n\u001b[1;32m--> 205\u001b[0m     conn \u001b[38;5;241m=\u001b[39m \u001b[38;5;28mself\u001b[39m\u001b[38;5;241m.\u001b[39m_new_conn()\n\u001b[0;32m    206\u001b[0m     \u001b[38;5;28mself\u001b[39m\u001b[38;5;241m.\u001b[39m_prepare_conn(conn)\n",
      "File \u001b[1;32m~\\anaconda3\\Lib\\site-packages\\urllib3\\connection.py:179\u001b[0m, in \u001b[0;36mHTTPConnection._new_conn\u001b[1;34m(self)\u001b[0m\n\u001b[0;32m    178\u001b[0m \u001b[38;5;28;01mexcept\u001b[39;00m SocketTimeout:\n\u001b[1;32m--> 179\u001b[0m     \u001b[38;5;28;01mraise\u001b[39;00m ConnectTimeoutError(\n\u001b[0;32m    180\u001b[0m         \u001b[38;5;28mself\u001b[39m,\n\u001b[0;32m    181\u001b[0m         \u001b[38;5;124m\"\u001b[39m\u001b[38;5;124mConnection to \u001b[39m\u001b[38;5;132;01m%s\u001b[39;00m\u001b[38;5;124m timed out. (connect timeout=\u001b[39m\u001b[38;5;132;01m%s\u001b[39;00m\u001b[38;5;124m)\u001b[39m\u001b[38;5;124m\"\u001b[39m\n\u001b[0;32m    182\u001b[0m         \u001b[38;5;241m%\u001b[39m (\u001b[38;5;28mself\u001b[39m\u001b[38;5;241m.\u001b[39mhost, \u001b[38;5;28mself\u001b[39m\u001b[38;5;241m.\u001b[39mtimeout),\n\u001b[0;32m    183\u001b[0m     )\n\u001b[0;32m    185\u001b[0m \u001b[38;5;28;01mexcept\u001b[39;00m SocketError \u001b[38;5;28;01mas\u001b[39;00m e:\n",
      "\u001b[1;31mConnectTimeoutError\u001b[0m: (<urllib3.connection.HTTPConnection object at 0x0000029C822CEE90>, 'Connection to www.imdb.com timed out. (connect timeout=None)')",
      "\nDuring handling of the above exception, another exception occurred:\n",
      "\u001b[1;31mMaxRetryError\u001b[0m                             Traceback (most recent call last)",
      "File \u001b[1;32m~\\anaconda3\\Lib\\site-packages\\requests\\adapters.py:486\u001b[0m, in \u001b[0;36mHTTPAdapter.send\u001b[1;34m(self, request, stream, timeout, verify, cert, proxies)\u001b[0m\n\u001b[0;32m    485\u001b[0m \u001b[38;5;28;01mtry\u001b[39;00m:\n\u001b[1;32m--> 486\u001b[0m     resp \u001b[38;5;241m=\u001b[39m conn\u001b[38;5;241m.\u001b[39murlopen(\n\u001b[0;32m    487\u001b[0m         method\u001b[38;5;241m=\u001b[39mrequest\u001b[38;5;241m.\u001b[39mmethod,\n\u001b[0;32m    488\u001b[0m         url\u001b[38;5;241m=\u001b[39murl,\n\u001b[0;32m    489\u001b[0m         body\u001b[38;5;241m=\u001b[39mrequest\u001b[38;5;241m.\u001b[39mbody,\n\u001b[0;32m    490\u001b[0m         headers\u001b[38;5;241m=\u001b[39mrequest\u001b[38;5;241m.\u001b[39mheaders,\n\u001b[0;32m    491\u001b[0m         redirect\u001b[38;5;241m=\u001b[39m\u001b[38;5;28;01mFalse\u001b[39;00m,\n\u001b[0;32m    492\u001b[0m         assert_same_host\u001b[38;5;241m=\u001b[39m\u001b[38;5;28;01mFalse\u001b[39;00m,\n\u001b[0;32m    493\u001b[0m         preload_content\u001b[38;5;241m=\u001b[39m\u001b[38;5;28;01mFalse\u001b[39;00m,\n\u001b[0;32m    494\u001b[0m         decode_content\u001b[38;5;241m=\u001b[39m\u001b[38;5;28;01mFalse\u001b[39;00m,\n\u001b[0;32m    495\u001b[0m         retries\u001b[38;5;241m=\u001b[39m\u001b[38;5;28mself\u001b[39m\u001b[38;5;241m.\u001b[39mmax_retries,\n\u001b[0;32m    496\u001b[0m         timeout\u001b[38;5;241m=\u001b[39mtimeout,\n\u001b[0;32m    497\u001b[0m         chunked\u001b[38;5;241m=\u001b[39mchunked,\n\u001b[0;32m    498\u001b[0m     )\n\u001b[0;32m    500\u001b[0m \u001b[38;5;28;01mexcept\u001b[39;00m (ProtocolError, \u001b[38;5;167;01mOSError\u001b[39;00m) \u001b[38;5;28;01mas\u001b[39;00m err:\n",
      "File \u001b[1;32m~\\anaconda3\\Lib\\site-packages\\urllib3\\connectionpool.py:798\u001b[0m, in \u001b[0;36mHTTPConnectionPool.urlopen\u001b[1;34m(self, method, url, body, headers, retries, redirect, assert_same_host, timeout, pool_timeout, release_conn, chunked, body_pos, **response_kw)\u001b[0m\n\u001b[0;32m    796\u001b[0m     e \u001b[38;5;241m=\u001b[39m ProtocolError(\u001b[38;5;124m\"\u001b[39m\u001b[38;5;124mConnection aborted.\u001b[39m\u001b[38;5;124m\"\u001b[39m, e)\n\u001b[1;32m--> 798\u001b[0m retries \u001b[38;5;241m=\u001b[39m retries\u001b[38;5;241m.\u001b[39mincrement(\n\u001b[0;32m    799\u001b[0m     method, url, error\u001b[38;5;241m=\u001b[39me, _pool\u001b[38;5;241m=\u001b[39m\u001b[38;5;28mself\u001b[39m, _stacktrace\u001b[38;5;241m=\u001b[39msys\u001b[38;5;241m.\u001b[39mexc_info()[\u001b[38;5;241m2\u001b[39m]\n\u001b[0;32m    800\u001b[0m )\n\u001b[0;32m    801\u001b[0m retries\u001b[38;5;241m.\u001b[39msleep()\n",
      "File \u001b[1;32m~\\anaconda3\\Lib\\site-packages\\urllib3\\util\\retry.py:592\u001b[0m, in \u001b[0;36mRetry.increment\u001b[1;34m(self, method, url, response, error, _pool, _stacktrace)\u001b[0m\n\u001b[0;32m    591\u001b[0m \u001b[38;5;28;01mif\u001b[39;00m new_retry\u001b[38;5;241m.\u001b[39mis_exhausted():\n\u001b[1;32m--> 592\u001b[0m     \u001b[38;5;28;01mraise\u001b[39;00m MaxRetryError(_pool, url, error \u001b[38;5;129;01mor\u001b[39;00m ResponseError(cause))\n\u001b[0;32m    594\u001b[0m log\u001b[38;5;241m.\u001b[39mdebug(\u001b[38;5;124m\"\u001b[39m\u001b[38;5;124mIncremented Retry for (url=\u001b[39m\u001b[38;5;124m'\u001b[39m\u001b[38;5;132;01m%s\u001b[39;00m\u001b[38;5;124m'\u001b[39m\u001b[38;5;124m): \u001b[39m\u001b[38;5;132;01m%r\u001b[39;00m\u001b[38;5;124m\"\u001b[39m, url, new_retry)\n",
      "\u001b[1;31mMaxRetryError\u001b[0m: HTTPConnectionPool(host='www.imdb.com', port=80): Max retries exceeded with url: /title/106220.0/reviews (Caused by ConnectTimeoutError(<urllib3.connection.HTTPConnection object at 0x0000029C822CEE90>, 'Connection to www.imdb.com timed out. (connect timeout=None)'))",
      "\nDuring handling of the above exception, another exception occurred:\n",
      "\u001b[1;31mConnectTimeout\u001b[0m                            Traceback (most recent call last)",
      "Cell \u001b[1;32mIn[48], line 19\u001b[0m\n\u001b[0;32m     16\u001b[0m imdb_url \u001b[38;5;241m=\u001b[39m \u001b[38;5;124mf\u001b[39m\u001b[38;5;124m'\u001b[39m\u001b[38;5;124mhttp://www.imdb.com/title/\u001b[39m\u001b[38;5;132;01m{\u001b[39;00mimdb_id\u001b[38;5;132;01m}\u001b[39;00m\u001b[38;5;124m/reviews\u001b[39m\u001b[38;5;124m'\u001b[39m\n\u001b[0;32m     18\u001b[0m \u001b[38;5;66;03m# Make an HTTP request\u001b[39;00m\n\u001b[1;32m---> 19\u001b[0m response \u001b[38;5;241m=\u001b[39m requests\u001b[38;5;241m.\u001b[39mget(imdb_url)\n\u001b[0;32m     21\u001b[0m \u001b[38;5;66;03m# Check if the request was successful (status code 200)\u001b[39;00m\n\u001b[0;32m     22\u001b[0m \u001b[38;5;28;01mif\u001b[39;00m response\u001b[38;5;241m.\u001b[39mstatus_code \u001b[38;5;241m==\u001b[39m \u001b[38;5;241m200\u001b[39m:\n\u001b[0;32m     23\u001b[0m     \u001b[38;5;66;03m# Parse the HTML content\u001b[39;00m\n",
      "File \u001b[1;32m~\\anaconda3\\Lib\\site-packages\\requests\\api.py:73\u001b[0m, in \u001b[0;36mget\u001b[1;34m(url, params, **kwargs)\u001b[0m\n\u001b[0;32m     62\u001b[0m \u001b[38;5;28;01mdef\u001b[39;00m \u001b[38;5;21mget\u001b[39m(url, params\u001b[38;5;241m=\u001b[39m\u001b[38;5;28;01mNone\u001b[39;00m, \u001b[38;5;241m*\u001b[39m\u001b[38;5;241m*\u001b[39mkwargs):\n\u001b[0;32m     63\u001b[0m \u001b[38;5;250m    \u001b[39m\u001b[38;5;124mr\u001b[39m\u001b[38;5;124;03m\"\"\"Sends a GET request.\u001b[39;00m\n\u001b[0;32m     64\u001b[0m \n\u001b[0;32m     65\u001b[0m \u001b[38;5;124;03m    :param url: URL for the new :class:`Request` object.\u001b[39;00m\n\u001b[1;32m   (...)\u001b[0m\n\u001b[0;32m     70\u001b[0m \u001b[38;5;124;03m    :rtype: requests.Response\u001b[39;00m\n\u001b[0;32m     71\u001b[0m \u001b[38;5;124;03m    \"\"\"\u001b[39;00m\n\u001b[1;32m---> 73\u001b[0m     \u001b[38;5;28;01mreturn\u001b[39;00m request(\u001b[38;5;124m\"\u001b[39m\u001b[38;5;124mget\u001b[39m\u001b[38;5;124m\"\u001b[39m, url, params\u001b[38;5;241m=\u001b[39mparams, \u001b[38;5;241m*\u001b[39m\u001b[38;5;241m*\u001b[39mkwargs)\n",
      "File \u001b[1;32m~\\anaconda3\\Lib\\site-packages\\requests\\api.py:59\u001b[0m, in \u001b[0;36mrequest\u001b[1;34m(method, url, **kwargs)\u001b[0m\n\u001b[0;32m     55\u001b[0m \u001b[38;5;66;03m# By using the 'with' statement we are sure the session is closed, thus we\u001b[39;00m\n\u001b[0;32m     56\u001b[0m \u001b[38;5;66;03m# avoid leaving sockets open which can trigger a ResourceWarning in some\u001b[39;00m\n\u001b[0;32m     57\u001b[0m \u001b[38;5;66;03m# cases, and look like a memory leak in others.\u001b[39;00m\n\u001b[0;32m     58\u001b[0m \u001b[38;5;28;01mwith\u001b[39;00m sessions\u001b[38;5;241m.\u001b[39mSession() \u001b[38;5;28;01mas\u001b[39;00m session:\n\u001b[1;32m---> 59\u001b[0m     \u001b[38;5;28;01mreturn\u001b[39;00m session\u001b[38;5;241m.\u001b[39mrequest(method\u001b[38;5;241m=\u001b[39mmethod, url\u001b[38;5;241m=\u001b[39murl, \u001b[38;5;241m*\u001b[39m\u001b[38;5;241m*\u001b[39mkwargs)\n",
      "File \u001b[1;32m~\\anaconda3\\Lib\\site-packages\\requests\\sessions.py:589\u001b[0m, in \u001b[0;36mSession.request\u001b[1;34m(self, method, url, params, data, headers, cookies, files, auth, timeout, allow_redirects, proxies, hooks, stream, verify, cert, json)\u001b[0m\n\u001b[0;32m    584\u001b[0m send_kwargs \u001b[38;5;241m=\u001b[39m {\n\u001b[0;32m    585\u001b[0m     \u001b[38;5;124m\"\u001b[39m\u001b[38;5;124mtimeout\u001b[39m\u001b[38;5;124m\"\u001b[39m: timeout,\n\u001b[0;32m    586\u001b[0m     \u001b[38;5;124m\"\u001b[39m\u001b[38;5;124mallow_redirects\u001b[39m\u001b[38;5;124m\"\u001b[39m: allow_redirects,\n\u001b[0;32m    587\u001b[0m }\n\u001b[0;32m    588\u001b[0m send_kwargs\u001b[38;5;241m.\u001b[39mupdate(settings)\n\u001b[1;32m--> 589\u001b[0m resp \u001b[38;5;241m=\u001b[39m \u001b[38;5;28mself\u001b[39m\u001b[38;5;241m.\u001b[39msend(prep, \u001b[38;5;241m*\u001b[39m\u001b[38;5;241m*\u001b[39msend_kwargs)\n\u001b[0;32m    591\u001b[0m \u001b[38;5;28;01mreturn\u001b[39;00m resp\n",
      "File \u001b[1;32m~\\anaconda3\\Lib\\site-packages\\requests\\sessions.py:703\u001b[0m, in \u001b[0;36mSession.send\u001b[1;34m(self, request, **kwargs)\u001b[0m\n\u001b[0;32m    700\u001b[0m start \u001b[38;5;241m=\u001b[39m preferred_clock()\n\u001b[0;32m    702\u001b[0m \u001b[38;5;66;03m# Send the request\u001b[39;00m\n\u001b[1;32m--> 703\u001b[0m r \u001b[38;5;241m=\u001b[39m adapter\u001b[38;5;241m.\u001b[39msend(request, \u001b[38;5;241m*\u001b[39m\u001b[38;5;241m*\u001b[39mkwargs)\n\u001b[0;32m    705\u001b[0m \u001b[38;5;66;03m# Total elapsed time of the request (approximately)\u001b[39;00m\n\u001b[0;32m    706\u001b[0m elapsed \u001b[38;5;241m=\u001b[39m preferred_clock() \u001b[38;5;241m-\u001b[39m start\n",
      "File \u001b[1;32m~\\anaconda3\\Lib\\site-packages\\requests\\adapters.py:507\u001b[0m, in \u001b[0;36mHTTPAdapter.send\u001b[1;34m(self, request, stream, timeout, verify, cert, proxies)\u001b[0m\n\u001b[0;32m    504\u001b[0m \u001b[38;5;28;01mif\u001b[39;00m \u001b[38;5;28misinstance\u001b[39m(e\u001b[38;5;241m.\u001b[39mreason, ConnectTimeoutError):\n\u001b[0;32m    505\u001b[0m     \u001b[38;5;66;03m# TODO: Remove this in 3.0.0: see #2811\u001b[39;00m\n\u001b[0;32m    506\u001b[0m     \u001b[38;5;28;01mif\u001b[39;00m \u001b[38;5;129;01mnot\u001b[39;00m \u001b[38;5;28misinstance\u001b[39m(e\u001b[38;5;241m.\u001b[39mreason, NewConnectionError):\n\u001b[1;32m--> 507\u001b[0m         \u001b[38;5;28;01mraise\u001b[39;00m ConnectTimeout(e, request\u001b[38;5;241m=\u001b[39mrequest)\n\u001b[0;32m    509\u001b[0m \u001b[38;5;28;01mif\u001b[39;00m \u001b[38;5;28misinstance\u001b[39m(e\u001b[38;5;241m.\u001b[39mreason, ResponseError):\n\u001b[0;32m    510\u001b[0m     \u001b[38;5;28;01mraise\u001b[39;00m RetryError(e, request\u001b[38;5;241m=\u001b[39mrequest)\n",
      "\u001b[1;31mConnectTimeout\u001b[0m: HTTPConnectionPool(host='www.imdb.com', port=80): Max retries exceeded with url: /title/106220.0/reviews (Caused by ConnectTimeoutError(<urllib3.connection.HTTPConnection object at 0x0000029C822CEE90>, 'Connection to www.imdb.com timed out. (connect timeout=None)'))"
     ]
    }
   ],
   "source": [
    "import requests\n",
    "from bs4 import BeautifulSoup\n",
    "\n",
    "# Read links.csv to get IMDb IDs\n",
    "# Assume that you have a DataFrame 'links_df' with columns 'movieId' and 'imdbId'\n",
    "# You can load the DataFrame using pandas\n",
    "\n",
    "# Example code (modify it based on your actual DataFrame)\n",
    "# links_df = pd.read_csv('links.csv')\n",
    "\n",
    "for index, row in links.iterrows():\n",
    "    movie_id = row['movieId']\n",
    "    imdb_id = row['imdbId']\n",
    "\n",
    "    # Construct IMDb URL\n",
    "    imdb_url = f'http://www.imdb.com/title/{imdb_id}/reviews'\n",
    "\n",
    "    # Make an HTTP request\n",
    "    response = requests.get(imdb_url)\n",
    "\n",
    "    # Check if the request was successful (status code 200)\n",
    "    if response.status_code == 200:\n",
    "        # Parse the HTML content\n",
    "        soup = BeautifulSoup(response.content, 'html.parser')\n",
    "\n",
    "        # Extract reviews (modify this part based on IMDb HTML structure)\n",
    "        reviews = soup.find_all('div', class_='text show-more__control')\n",
    "\n",
    "        # Process and store the reviews as needed\n",
    "        for review in reviews:\n",
    "            # Process each review (e.g., store in a list, database, or file)\n",
    "            print(review.text)\n",
    "    else:\n",
    "        print(f\"Failed to fetch reviews for movie ID {movie_id}\")\n",
    "\n",
    "# Note: This is a simplified example, and you may need to adjust the code based on IMDb's HTML structure.\n"
   ]
  },
  {
   "cell_type": "code",
   "execution_count": 50,
   "id": "ac776464",
   "metadata": {
    "ExecuteTime": {
     "end_time": "2024-01-06T09:02:46.208119Z",
     "start_time": "2024-01-06T09:02:46.195620Z"
    }
   },
   "outputs": [],
   "source": [
    "import requests\n",
    "import numpy as np\n",
    "from bs4 import BeautifulSoup\n",
    "\n",
    "def scrapper(imdbId):\n",
    "    id = str(int(imdbId))\n",
    "    n_zeroes = 7 - len(id)\n",
    "    new_id = \"0\"*n_zeroes + id\n",
    "    URL = f\"https://www.imdb.com/title/tt{new_id}/\"\n",
    "    request_header = {'Content-Type': 'text/html; charset=UTF-8', \n",
    "                      'User-Agent': 'Mozilla/5.0 (Windows NT 10.0; Win64; x64; rv:109.0) Gecko/20100101 Firefox/119.0', \n",
    "                      'Accept-Encoding': 'gzip, deflate, br'}\n",
    "    response = requests.FILL_IN_THE_BLANK(URL, headers=request_header)\n",
    "    soup = FILL_IN_THE_BLANK(response.text)\n",
    "    imdb_rating = soup.find('FILL_IN_THE_BLANK', attrs={'FILL_IN_THE_BLANK' : 'FILL_IN_THE_BLANK'})\n",
    "    return imdb_rating.text if imdb_rating else np.nan"
   ]
  },
  {
   "cell_type": "code",
   "execution_count": 51,
   "id": "43534bb6",
   "metadata": {
    "ExecuteTime": {
     "end_time": "2024-01-06T09:03:25.112593Z",
     "start_time": "2024-01-06T09:03:24.829369Z"
    }
   },
   "outputs": [
    {
     "ename": "NameError",
     "evalue": "name 'imdbId' is not defined",
     "output_type": "error",
     "traceback": [
      "\u001b[1;31m---------------------------------------------------------------------------\u001b[0m",
      "\u001b[1;31mNameError\u001b[0m                                 Traceback (most recent call last)",
      "Cell \u001b[1;32mIn[51], line 1\u001b[0m\n\u001b[1;32m----> 1\u001b[0m scrapper(imdbId)\n",
      "\u001b[1;31mNameError\u001b[0m: name 'imdbId' is not defined"
     ]
    }
   ],
   "source": [
    "scrapper(imdbId)"
   ]
  },
  {
   "cell_type": "code",
   "execution_count": 52,
   "id": "b4037616",
   "metadata": {
    "ExecuteTime": {
     "end_time": "2024-01-06T09:04:30.334950Z",
     "start_time": "2024-01-06T09:04:30.321955Z"
    }
   },
   "outputs": [],
   "source": [
    "import requests\n",
    "import numpy as np\n",
    "from bs4 import BeautifulSoup\n",
    "\n",
    "def scrapper(imdbId):\n",
    "    id = str(int(imdbId))\n",
    "    n_zeroes = 7 - len(id)\n",
    "    new_id = \"0\" * n_zeroes + id\n",
    "    URL = f\"https://www.imdb.com/title/tt{new_id}/\"\n",
    "    request_header = {\n",
    "        'Content-Type': 'text/html; charset=UTF-8',\n",
    "        'User-Agent': 'Mozilla/5.0 (Windows NT 10.0; Win64; x64; rv:109.0) Gecko/20100101 Firefox/119.0',\n",
    "        'Accept-Encoding': 'gzip, deflate, br'\n",
    "    }\n",
    "    \n",
    "    # Fill in the blank for the requests method\n",
    "    response = requests.get(URL, headers=request_header)\n",
    "    \n",
    "    soup = BeautifulSoup(response.text, 'html.parser')  # Fill in the blank for the BeautifulSoup class\n",
    "    \n",
    "    imdb_rating = soup.find('span', attrs={'data-testid': 'default-rating'})\n",
    "    \n",
    "    return imdb_rating.text if imdb_rating else np.nan\n"
   ]
  },
  {
   "cell_type": "code",
   "execution_count": 57,
   "id": "078aa3aa",
   "metadata": {
    "ExecuteTime": {
     "end_time": "2024-01-06T09:17:18.952956Z",
     "start_time": "2024-01-06T09:17:15.791897Z"
    }
   },
   "outputs": [
    {
     "data": {
      "text/plain": [
       "nan"
      ]
     },
     "execution_count": 57,
     "metadata": {},
     "output_type": "execute_result"
    }
   ],
   "source": [
    "scrapper(114709)"
   ]
  },
  {
   "cell_type": "code",
   "execution_count": 58,
   "id": "186d90b4",
   "metadata": {
    "ExecuteTime": {
     "end_time": "2024-01-06T10:30:24.609196Z",
     "start_time": "2024-01-06T10:30:22.174661Z"
    }
   },
   "outputs": [
    {
     "data": {
      "text/html": [
       "<div>\n",
       "<style scoped>\n",
       "    .dataframe tbody tr th:only-of-type {\n",
       "        vertical-align: middle;\n",
       "    }\n",
       "\n",
       "    .dataframe tbody tr th {\n",
       "        vertical-align: top;\n",
       "    }\n",
       "\n",
       "    .dataframe thead th {\n",
       "        text-align: right;\n",
       "    }\n",
       "</style>\n",
       "<table border=\"1\" class=\"dataframe\">\n",
       "  <thead>\n",
       "    <tr style=\"text-align: right;\">\n",
       "      <th></th>\n",
       "      <th>movieId</th>\n",
       "      <th>title</th>\n",
       "      <th>genres</th>\n",
       "      <th>rating_count</th>\n",
       "      <th>rating_mean</th>\n",
       "    </tr>\n",
       "  </thead>\n",
       "  <tbody>\n",
       "    <tr>\n",
       "      <th>224</th>\n",
       "      <td>260</td>\n",
       "      <td>Star Wars: Episode IV - A New Hope (1977)</td>\n",
       "      <td>Action|Adventure|Sci-Fi</td>\n",
       "      <td>251</td>\n",
       "      <td>4.231076</td>\n",
       "    </tr>\n",
       "    <tr>\n",
       "      <th>898</th>\n",
       "      <td>1196</td>\n",
       "      <td>Star Wars: Episode V - The Empire Strikes Back...</td>\n",
       "      <td>Action|Adventure|Sci-Fi</td>\n",
       "      <td>211</td>\n",
       "      <td>4.215640</td>\n",
       "    </tr>\n",
       "    <tr>\n",
       "      <th>1939</th>\n",
       "      <td>2571</td>\n",
       "      <td>Matrix, The (1999)</td>\n",
       "      <td>Action|Sci-Fi|Thriller</td>\n",
       "      <td>278</td>\n",
       "      <td>4.192446</td>\n",
       "    </tr>\n",
       "    <tr>\n",
       "      <th>901</th>\n",
       "      <td>1199</td>\n",
       "      <td>Brazil (1985)</td>\n",
       "      <td>Fantasy|Sci-Fi</td>\n",
       "      <td>59</td>\n",
       "      <td>4.177966</td>\n",
       "    </tr>\n",
       "    <tr>\n",
       "      <th>4909</th>\n",
       "      <td>7361</td>\n",
       "      <td>Eternal Sunshine of the Spotless Mind (2004)</td>\n",
       "      <td>Drama|Romance|Sci-Fi</td>\n",
       "      <td>131</td>\n",
       "      <td>4.160305</td>\n",
       "    </tr>\n",
       "    <tr>\n",
       "      <th>...</th>\n",
       "      <td>...</td>\n",
       "      <td>...</td>\n",
       "      <td>...</td>\n",
       "      <td>...</td>\n",
       "      <td>...</td>\n",
       "    </tr>\n",
       "    <tr>\n",
       "      <th>559</th>\n",
       "      <td>673</td>\n",
       "      <td>Space Jam (1996)</td>\n",
       "      <td>Adventure|Animation|Children|Comedy|Fantasy|Sc...</td>\n",
       "      <td>53</td>\n",
       "      <td>2.707547</td>\n",
       "    </tr>\n",
       "    <tr>\n",
       "      <th>144</th>\n",
       "      <td>172</td>\n",
       "      <td>Johnny Mnemonic (1995)</td>\n",
       "      <td>Action|Sci-Fi|Thriller</td>\n",
       "      <td>53</td>\n",
       "      <td>2.679245</td>\n",
       "    </tr>\n",
       "    <tr>\n",
       "      <th>145</th>\n",
       "      <td>173</td>\n",
       "      <td>Judge Dredd (1995)</td>\n",
       "      <td>Action|Crime|Sci-Fi</td>\n",
       "      <td>62</td>\n",
       "      <td>2.669355</td>\n",
       "    </tr>\n",
       "    <tr>\n",
       "      <th>379</th>\n",
       "      <td>435</td>\n",
       "      <td>Coneheads (1993)</td>\n",
       "      <td>Comedy|Sci-Fi</td>\n",
       "      <td>63</td>\n",
       "      <td>2.420635</td>\n",
       "    </tr>\n",
       "    <tr>\n",
       "      <th>2029</th>\n",
       "      <td>2701</td>\n",
       "      <td>Wild Wild West (1999)</td>\n",
       "      <td>Action|Comedy|Sci-Fi|Western</td>\n",
       "      <td>53</td>\n",
       "      <td>2.207547</td>\n",
       "    </tr>\n",
       "  </tbody>\n",
       "</table>\n",
       "<p>88 rows × 5 columns</p>\n",
       "</div>"
      ],
      "text/plain": [
       "      movieId                                              title  \\\n",
       "224       260          Star Wars: Episode IV - A New Hope (1977)   \n",
       "898      1196  Star Wars: Episode V - The Empire Strikes Back...   \n",
       "1939     2571                                 Matrix, The (1999)   \n",
       "901      1199                                      Brazil (1985)   \n",
       "4909     7361       Eternal Sunshine of the Spotless Mind (2004)   \n",
       "...       ...                                                ...   \n",
       "559       673                                   Space Jam (1996)   \n",
       "144       172                             Johnny Mnemonic (1995)   \n",
       "145       173                                 Judge Dredd (1995)   \n",
       "379       435                                   Coneheads (1993)   \n",
       "2029     2701                              Wild Wild West (1999)   \n",
       "\n",
       "                                                 genres  rating_count  \\\n",
       "224                             Action|Adventure|Sci-Fi           251   \n",
       "898                             Action|Adventure|Sci-Fi           211   \n",
       "1939                             Action|Sci-Fi|Thriller           278   \n",
       "901                                      Fantasy|Sci-Fi            59   \n",
       "4909                               Drama|Romance|Sci-Fi           131   \n",
       "...                                                 ...           ...   \n",
       "559   Adventure|Animation|Children|Comedy|Fantasy|Sc...            53   \n",
       "144                              Action|Sci-Fi|Thriller            53   \n",
       "145                                 Action|Crime|Sci-Fi            62   \n",
       "379                                       Comedy|Sci-Fi            63   \n",
       "2029                       Action|Comedy|Sci-Fi|Western            53   \n",
       "\n",
       "      rating_mean  \n",
       "224      4.231076  \n",
       "898      4.215640  \n",
       "1939     4.192446  \n",
       "901      4.177966  \n",
       "4909     4.160305  \n",
       "...           ...  \n",
       "559      2.707547  \n",
       "144      2.679245  \n",
       "145      2.669355  \n",
       "379      2.420635  \n",
       "2029     2.207547  \n",
       "\n",
       "[88 rows x 5 columns]"
      ]
     },
     "execution_count": 58,
     "metadata": {},
     "output_type": "execute_result"
    }
   ],
   "source": [
    "sci_fi_movies.sort_values(by='rating_mean', ascending=False)"
   ]
  },
  {
   "cell_type": "code",
   "execution_count": 63,
   "id": "9bab5000",
   "metadata": {
    "ExecuteTime": {
     "end_time": "2024-01-06T10:39:40.141081Z",
     "start_time": "2024-01-06T10:38:55.295731Z"
    }
   },
   "outputs": [],
   "source": [
    "from requests import get\n",
    "from bs4 import BeautifulSoup\n",
    "from warnings import warn\n",
    "from time import sleep\n",
    "from random import randint\n",
    "import numpy as np, pandas as pd\n",
    "import seaborn as sns"
   ]
  },
  {
   "cell_type": "code",
   "execution_count": 64,
   "id": "9a4bc0f7",
   "metadata": {
    "ExecuteTime": {
     "end_time": "2024-01-06T10:39:52.506547Z",
     "start_time": "2024-01-06T10:39:52.425447Z"
    }
   },
   "outputs": [
    {
     "ename": "SyntaxError",
     "evalue": "invalid syntax (4222610495.py, line 107)",
     "output_type": "error",
     "traceback": [
      "\u001b[1;36m  Cell \u001b[1;32mIn[64], line 107\u001b[1;36m\u001b[0m\n\u001b[1;33m    else:\u001b[0m\n\u001b[1;37m    ^\u001b[0m\n\u001b[1;31mSyntaxError\u001b[0m\u001b[1;31m:\u001b[0m invalid syntax\n"
     ]
    }
   ],
   "source": [
    "pages = np.arange(1, 9951, 50) # Last time I tried, I could only go to 10000 items because after that the URI has no discernable pattern to combat webcrawlers; I just did 4 pages for demonstration purposes. You can increase this for your own projects.\n",
    "headers = {'Accept-Language': 'en-US,en;q=0.8'} # If this is not specified, the default language is Mandarin\n",
    "\n",
    "#initialize empty lists to store the variables scraped\n",
    "titles = []\n",
    "years = []\n",
    "ratings = []\n",
    "genres = []\n",
    "runtimes = []\n",
    "imdb_ratings = []\n",
    "imdb_ratings_standardized = []\n",
    "metascores = []\n",
    "votes = []\n",
    "\n",
    "for page in pages:\n",
    "  \n",
    "   #get request for sci-fi\n",
    "   response = get(\"https://www.imdb.com/search/title?genres=sci-fi&\"\n",
    "                  + \"start=\"\n",
    "                  + str(page)\n",
    "                  + \"&explore=title_type,genres&ref_=adv_prv\", headers=headers)\n",
    "  \n",
    "   sleep(randint(8,15))\n",
    "   \n",
    "   #throw warning for status codes that are not 200\n",
    "   if response.status_code != 200:\n",
    "       warn('Request: {}; Status code: {}'.format(requests, response.status_code))\n",
    "\n",
    "   #parse the content of current iteration of request\n",
    "   page_html = BeautifulSoup(response.text, 'html.parser')\n",
    "      \n",
    "   movie_containers = page_html.find_all('div', class_ = 'lister-item mode-advanced')\n",
    "  \n",
    "   #extract the 50 movies for that page\n",
    "   for container in movie_containers:\n",
    "\n",
    "       #conditional for all with metascore\n",
    "       if container.find('div', class_ = 'ratings-metascore') is not None:\n",
    "\n",
    "           #title\n",
    "           title = container.h3.a.text\n",
    "           titles.append(title)\n",
    "\n",
    "           if container.h3.find('span', class_= 'lister-item-year text-muted unbold') is not None:\n",
    "            \n",
    "             #year released\n",
    "             year = container.h3.find('span', class_= 'lister-item-year text-muted unbold').text # remove the parentheses around the year and make it an integer\n",
    "             years.append(year)\n",
    "\n",
    "           else:\n",
    "             years.append(None) # each of the additional if clauses are to handle type None data, replacing it with an empty string so the arrays are of the same length at the end of the scraping\n",
    "\n",
    "           if container.p.find('span', class_ = 'certificate') is not None:\n",
    "            \n",
    "             #rating\n",
    "             rating = container.p.find('span', class_= 'certificate').text\n",
    "             ratings.append(rating)\n",
    "\n",
    "           else:\n",
    "             ratings.append(\"\")\n",
    "\n",
    "           if container.p.find('span', class_ = 'genre') is not None:\n",
    "            \n",
    "             #genre\n",
    "             genre = container.p.find('span', class_ = 'genre').text.replace(\"\\n\", \"\").rstrip().split(',') # remove the whitespace character, strip, and split to create an array of genres\n",
    "             genres.append(genre)\n",
    "          \n",
    "           else:\n",
    "             genres.append(\"\")\n",
    "\n",
    "           if container.p.find('span', class_ = 'runtime') is not None:\n",
    "\n",
    "             #runtime\n",
    "             time = int(container.p.find('span', class_ = 'runtime').text.replace(\" min\", \"\")) # remove the minute word from the runtime and make it an integer\n",
    "             runtimes.append(time)\n",
    "\n",
    "           else:\n",
    "             runtimes.append(None)\n",
    "\n",
    "           if float(container.strong.text) is not None:\n",
    "\n",
    "             #IMDB ratings\n",
    "             imdb = float(container.strong.text) # non-standardized variable\n",
    "             imdb_ratings.append(imdb)\n",
    "\n",
    "           else:\n",
    "             imdb_ratings.append(None)\n",
    "\n",
    "           if container.find('span', class_ = 'metascore').text is not None:\n",
    "\n",
    "             #Metascore\n",
    "             m_score = int(container.find('span', class_ = 'metascore').text) # make it an integer\n",
    "             metascores.append(m_score)\n",
    "\n",
    "           else:\n",
    "             metascores.append(None)\n",
    "\n",
    "           if container.find('span', attrs = {'name':'nv'})['data-value'] is not None:\n",
    "\n",
    "             #Number of votes\n",
    "             vote = int(container.find('span', attrs = {'name':'nv'})['data-value'])\n",
    "             votes.append(vote)\n",
    "\n",
    "           else:\n",
    "               votes.append(None)\n",
    "\n",
    "           else:\n",
    "               votes.append(None)"
   ]
  },
  {
   "cell_type": "code",
   "execution_count": 65,
   "id": "5fd0db77",
   "metadata": {
    "ExecuteTime": {
     "end_time": "2024-01-06T10:42:19.359007Z",
     "start_time": "2024-01-06T10:42:19.352193Z"
    }
   },
   "outputs": [],
   "source": [
    "from urllib.request import urlopen as uReq\n",
    "from bs4 import BeautifulSoup as soup\n",
    "import pandas as pd"
   ]
  },
  {
   "cell_type": "code",
   "execution_count": 70,
   "id": "1816965f",
   "metadata": {
    "ExecuteTime": {
     "end_time": "2024-01-06T10:43:39.014847Z",
     "start_time": "2024-01-06T10:43:39.009628Z"
    }
   },
   "outputs": [],
   "source": [
    "my_url = \"http://www.imdb.com/search/title?sort=num_votes,desc&start=1&title_type=feature&year=1950,2012\""
   ]
  },
  {
   "cell_type": "code",
   "execution_count": 71,
   "id": "847eefa5",
   "metadata": {
    "ExecuteTime": {
     "end_time": "2024-01-06T10:43:43.075424Z",
     "start_time": "2024-01-06T10:43:41.263916Z"
    }
   },
   "outputs": [
    {
     "ename": "HTTPError",
     "evalue": "HTTP Error 403: Forbidden",
     "output_type": "error",
     "traceback": [
      "\u001b[1;31m---------------------------------------------------------------------------\u001b[0m",
      "\u001b[1;31mHTTPError\u001b[0m                                 Traceback (most recent call last)",
      "Cell \u001b[1;32mIn[71], line 1\u001b[0m\n\u001b[1;32m----> 1\u001b[0m uClient \u001b[38;5;241m=\u001b[39m uReq(my_url)\n\u001b[0;32m      2\u001b[0m page_html \u001b[38;5;241m=\u001b[39m uClient\u001b[38;5;241m.\u001b[39mread()\n\u001b[0;32m      3\u001b[0m uClient\u001b[38;5;241m.\u001b[39mclose()\n",
      "File \u001b[1;32m~\\anaconda3\\Lib\\urllib\\request.py:216\u001b[0m, in \u001b[0;36murlopen\u001b[1;34m(url, data, timeout, cafile, capath, cadefault, context)\u001b[0m\n\u001b[0;32m    214\u001b[0m \u001b[38;5;28;01melse\u001b[39;00m:\n\u001b[0;32m    215\u001b[0m     opener \u001b[38;5;241m=\u001b[39m _opener\n\u001b[1;32m--> 216\u001b[0m \u001b[38;5;28;01mreturn\u001b[39;00m opener\u001b[38;5;241m.\u001b[39mopen(url, data, timeout)\n",
      "File \u001b[1;32m~\\anaconda3\\Lib\\urllib\\request.py:525\u001b[0m, in \u001b[0;36mOpenerDirector.open\u001b[1;34m(self, fullurl, data, timeout)\u001b[0m\n\u001b[0;32m    523\u001b[0m \u001b[38;5;28;01mfor\u001b[39;00m processor \u001b[38;5;129;01min\u001b[39;00m \u001b[38;5;28mself\u001b[39m\u001b[38;5;241m.\u001b[39mprocess_response\u001b[38;5;241m.\u001b[39mget(protocol, []):\n\u001b[0;32m    524\u001b[0m     meth \u001b[38;5;241m=\u001b[39m \u001b[38;5;28mgetattr\u001b[39m(processor, meth_name)\n\u001b[1;32m--> 525\u001b[0m     response \u001b[38;5;241m=\u001b[39m meth(req, response)\n\u001b[0;32m    527\u001b[0m \u001b[38;5;28;01mreturn\u001b[39;00m response\n",
      "File \u001b[1;32m~\\anaconda3\\Lib\\urllib\\request.py:634\u001b[0m, in \u001b[0;36mHTTPErrorProcessor.http_response\u001b[1;34m(self, request, response)\u001b[0m\n\u001b[0;32m    631\u001b[0m \u001b[38;5;66;03m# According to RFC 2616, \"2xx\" code indicates that the client's\u001b[39;00m\n\u001b[0;32m    632\u001b[0m \u001b[38;5;66;03m# request was successfully received, understood, and accepted.\u001b[39;00m\n\u001b[0;32m    633\u001b[0m \u001b[38;5;28;01mif\u001b[39;00m \u001b[38;5;129;01mnot\u001b[39;00m (\u001b[38;5;241m200\u001b[39m \u001b[38;5;241m<\u001b[39m\u001b[38;5;241m=\u001b[39m code \u001b[38;5;241m<\u001b[39m \u001b[38;5;241m300\u001b[39m):\n\u001b[1;32m--> 634\u001b[0m     response \u001b[38;5;241m=\u001b[39m \u001b[38;5;28mself\u001b[39m\u001b[38;5;241m.\u001b[39mparent\u001b[38;5;241m.\u001b[39merror(\n\u001b[0;32m    635\u001b[0m         \u001b[38;5;124m'\u001b[39m\u001b[38;5;124mhttp\u001b[39m\u001b[38;5;124m'\u001b[39m, request, response, code, msg, hdrs)\n\u001b[0;32m    637\u001b[0m \u001b[38;5;28;01mreturn\u001b[39;00m response\n",
      "File \u001b[1;32m~\\anaconda3\\Lib\\urllib\\request.py:557\u001b[0m, in \u001b[0;36mOpenerDirector.error\u001b[1;34m(self, proto, *args)\u001b[0m\n\u001b[0;32m    555\u001b[0m     http_err \u001b[38;5;241m=\u001b[39m \u001b[38;5;241m0\u001b[39m\n\u001b[0;32m    556\u001b[0m args \u001b[38;5;241m=\u001b[39m (\u001b[38;5;28mdict\u001b[39m, proto, meth_name) \u001b[38;5;241m+\u001b[39m args\n\u001b[1;32m--> 557\u001b[0m result \u001b[38;5;241m=\u001b[39m \u001b[38;5;28mself\u001b[39m\u001b[38;5;241m.\u001b[39m_call_chain(\u001b[38;5;241m*\u001b[39margs)\n\u001b[0;32m    558\u001b[0m \u001b[38;5;28;01mif\u001b[39;00m result:\n\u001b[0;32m    559\u001b[0m     \u001b[38;5;28;01mreturn\u001b[39;00m result\n",
      "File \u001b[1;32m~\\anaconda3\\Lib\\urllib\\request.py:496\u001b[0m, in \u001b[0;36mOpenerDirector._call_chain\u001b[1;34m(self, chain, kind, meth_name, *args)\u001b[0m\n\u001b[0;32m    494\u001b[0m \u001b[38;5;28;01mfor\u001b[39;00m handler \u001b[38;5;129;01min\u001b[39;00m handlers:\n\u001b[0;32m    495\u001b[0m     func \u001b[38;5;241m=\u001b[39m \u001b[38;5;28mgetattr\u001b[39m(handler, meth_name)\n\u001b[1;32m--> 496\u001b[0m     result \u001b[38;5;241m=\u001b[39m func(\u001b[38;5;241m*\u001b[39margs)\n\u001b[0;32m    497\u001b[0m     \u001b[38;5;28;01mif\u001b[39;00m result \u001b[38;5;129;01mis\u001b[39;00m \u001b[38;5;129;01mnot\u001b[39;00m \u001b[38;5;28;01mNone\u001b[39;00m:\n\u001b[0;32m    498\u001b[0m         \u001b[38;5;28;01mreturn\u001b[39;00m result\n",
      "File \u001b[1;32m~\\anaconda3\\Lib\\urllib\\request.py:749\u001b[0m, in \u001b[0;36mHTTPRedirectHandler.http_error_302\u001b[1;34m(self, req, fp, code, msg, headers)\u001b[0m\n\u001b[0;32m    746\u001b[0m fp\u001b[38;5;241m.\u001b[39mread()\n\u001b[0;32m    747\u001b[0m fp\u001b[38;5;241m.\u001b[39mclose()\n\u001b[1;32m--> 749\u001b[0m \u001b[38;5;28;01mreturn\u001b[39;00m \u001b[38;5;28mself\u001b[39m\u001b[38;5;241m.\u001b[39mparent\u001b[38;5;241m.\u001b[39mopen(new, timeout\u001b[38;5;241m=\u001b[39mreq\u001b[38;5;241m.\u001b[39mtimeout)\n",
      "File \u001b[1;32m~\\anaconda3\\Lib\\urllib\\request.py:525\u001b[0m, in \u001b[0;36mOpenerDirector.open\u001b[1;34m(self, fullurl, data, timeout)\u001b[0m\n\u001b[0;32m    523\u001b[0m \u001b[38;5;28;01mfor\u001b[39;00m processor \u001b[38;5;129;01min\u001b[39;00m \u001b[38;5;28mself\u001b[39m\u001b[38;5;241m.\u001b[39mprocess_response\u001b[38;5;241m.\u001b[39mget(protocol, []):\n\u001b[0;32m    524\u001b[0m     meth \u001b[38;5;241m=\u001b[39m \u001b[38;5;28mgetattr\u001b[39m(processor, meth_name)\n\u001b[1;32m--> 525\u001b[0m     response \u001b[38;5;241m=\u001b[39m meth(req, response)\n\u001b[0;32m    527\u001b[0m \u001b[38;5;28;01mreturn\u001b[39;00m response\n",
      "File \u001b[1;32m~\\anaconda3\\Lib\\urllib\\request.py:634\u001b[0m, in \u001b[0;36mHTTPErrorProcessor.http_response\u001b[1;34m(self, request, response)\u001b[0m\n\u001b[0;32m    631\u001b[0m \u001b[38;5;66;03m# According to RFC 2616, \"2xx\" code indicates that the client's\u001b[39;00m\n\u001b[0;32m    632\u001b[0m \u001b[38;5;66;03m# request was successfully received, understood, and accepted.\u001b[39;00m\n\u001b[0;32m    633\u001b[0m \u001b[38;5;28;01mif\u001b[39;00m \u001b[38;5;129;01mnot\u001b[39;00m (\u001b[38;5;241m200\u001b[39m \u001b[38;5;241m<\u001b[39m\u001b[38;5;241m=\u001b[39m code \u001b[38;5;241m<\u001b[39m \u001b[38;5;241m300\u001b[39m):\n\u001b[1;32m--> 634\u001b[0m     response \u001b[38;5;241m=\u001b[39m \u001b[38;5;28mself\u001b[39m\u001b[38;5;241m.\u001b[39mparent\u001b[38;5;241m.\u001b[39merror(\n\u001b[0;32m    635\u001b[0m         \u001b[38;5;124m'\u001b[39m\u001b[38;5;124mhttp\u001b[39m\u001b[38;5;124m'\u001b[39m, request, response, code, msg, hdrs)\n\u001b[0;32m    637\u001b[0m \u001b[38;5;28;01mreturn\u001b[39;00m response\n",
      "File \u001b[1;32m~\\anaconda3\\Lib\\urllib\\request.py:563\u001b[0m, in \u001b[0;36mOpenerDirector.error\u001b[1;34m(self, proto, *args)\u001b[0m\n\u001b[0;32m    561\u001b[0m \u001b[38;5;28;01mif\u001b[39;00m http_err:\n\u001b[0;32m    562\u001b[0m     args \u001b[38;5;241m=\u001b[39m (\u001b[38;5;28mdict\u001b[39m, \u001b[38;5;124m'\u001b[39m\u001b[38;5;124mdefault\u001b[39m\u001b[38;5;124m'\u001b[39m, \u001b[38;5;124m'\u001b[39m\u001b[38;5;124mhttp_error_default\u001b[39m\u001b[38;5;124m'\u001b[39m) \u001b[38;5;241m+\u001b[39m orig_args\n\u001b[1;32m--> 563\u001b[0m     \u001b[38;5;28;01mreturn\u001b[39;00m \u001b[38;5;28mself\u001b[39m\u001b[38;5;241m.\u001b[39m_call_chain(\u001b[38;5;241m*\u001b[39margs)\n",
      "File \u001b[1;32m~\\anaconda3\\Lib\\urllib\\request.py:496\u001b[0m, in \u001b[0;36mOpenerDirector._call_chain\u001b[1;34m(self, chain, kind, meth_name, *args)\u001b[0m\n\u001b[0;32m    494\u001b[0m \u001b[38;5;28;01mfor\u001b[39;00m handler \u001b[38;5;129;01min\u001b[39;00m handlers:\n\u001b[0;32m    495\u001b[0m     func \u001b[38;5;241m=\u001b[39m \u001b[38;5;28mgetattr\u001b[39m(handler, meth_name)\n\u001b[1;32m--> 496\u001b[0m     result \u001b[38;5;241m=\u001b[39m func(\u001b[38;5;241m*\u001b[39margs)\n\u001b[0;32m    497\u001b[0m     \u001b[38;5;28;01mif\u001b[39;00m result \u001b[38;5;129;01mis\u001b[39;00m \u001b[38;5;129;01mnot\u001b[39;00m \u001b[38;5;28;01mNone\u001b[39;00m:\n\u001b[0;32m    498\u001b[0m         \u001b[38;5;28;01mreturn\u001b[39;00m result\n",
      "File \u001b[1;32m~\\anaconda3\\Lib\\urllib\\request.py:643\u001b[0m, in \u001b[0;36mHTTPDefaultErrorHandler.http_error_default\u001b[1;34m(self, req, fp, code, msg, hdrs)\u001b[0m\n\u001b[0;32m    642\u001b[0m \u001b[38;5;28;01mdef\u001b[39;00m \u001b[38;5;21mhttp_error_default\u001b[39m(\u001b[38;5;28mself\u001b[39m, req, fp, code, msg, hdrs):\n\u001b[1;32m--> 643\u001b[0m     \u001b[38;5;28;01mraise\u001b[39;00m HTTPError(req\u001b[38;5;241m.\u001b[39mfull_url, code, msg, hdrs, fp)\n",
      "\u001b[1;31mHTTPError\u001b[0m: HTTP Error 403: Forbidden"
     ]
    }
   ],
   "source": [
    "uClient = uReq(my_url)\n",
    "page_html = uClient.read()\n",
    "uClient.close()"
   ]
  },
  {
   "cell_type": "code",
   "execution_count": 72,
   "id": "ae2c55d6",
   "metadata": {
    "ExecuteTime": {
     "end_time": "2024-01-06T10:43:43.898730Z",
     "start_time": "2024-01-06T10:43:43.855634Z"
    }
   },
   "outputs": [
    {
     "ename": "NameError",
     "evalue": "name 'page_html' is not defined",
     "output_type": "error",
     "traceback": [
      "\u001b[1;31m---------------------------------------------------------------------------\u001b[0m",
      "\u001b[1;31mNameError\u001b[0m                                 Traceback (most recent call last)",
      "Cell \u001b[1;32mIn[72], line 1\u001b[0m\n\u001b[1;32m----> 1\u001b[0m page_html\n",
      "\u001b[1;31mNameError\u001b[0m: name 'page_html' is not defined"
     ]
    }
   ],
   "source": [
    "page_html"
   ]
  },
  {
   "cell_type": "code",
   "execution_count": null,
   "id": "1b0af8dd",
   "metadata": {},
   "outputs": [],
   "source": []
  }
 ],
 "metadata": {
  "kernelspec": {
   "display_name": "Python 3 (ipykernel)",
   "language": "python",
   "name": "python3"
  },
  "language_info": {
   "codemirror_mode": {
    "name": "ipython",
    "version": 3
   },
   "file_extension": ".py",
   "mimetype": "text/x-python",
   "name": "python",
   "nbconvert_exporter": "python",
   "pygments_lexer": "ipython3",
   "version": "3.11.5"
  },
  "varInspector": {
   "cols": {
    "lenName": 16,
    "lenType": 16,
    "lenVar": 40
   },
   "kernels_config": {
    "python": {
     "delete_cmd_postfix": "",
     "delete_cmd_prefix": "del ",
     "library": "var_list.py",
     "varRefreshCmd": "print(var_dic_list())"
    },
    "r": {
     "delete_cmd_postfix": ") ",
     "delete_cmd_prefix": "rm(",
     "library": "var_list.r",
     "varRefreshCmd": "cat(var_dic_list()) "
    }
   },
   "types_to_exclude": [
    "module",
    "function",
    "builtin_function_or_method",
    "instance",
    "_Feature"
   ],
   "window_display": false
  }
 },
 "nbformat": 4,
 "nbformat_minor": 5
}
